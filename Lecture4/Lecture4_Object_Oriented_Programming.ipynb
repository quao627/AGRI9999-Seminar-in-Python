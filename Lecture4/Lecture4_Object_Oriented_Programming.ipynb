{
 "cells": [
  {
   "cell_type": "markdown",
   "metadata": {},
   "source": [
    "# Object Oriented Programming (OOP)"
   ]
  },
  {
   "cell_type": "markdown",
   "metadata": {},
   "source": [
    "## Create a class"
   ]
  },
  {
   "cell_type": "code",
   "execution_count": 46,
   "metadata": {},
   "outputs": [],
   "source": [
    "class Student:\n",
    "    def __init__(self, fname, lname, major='Undecided', GPA=4.0):\n",
    "        self.fname = fname\n",
    "        self.lname = lname\n",
    "        self.majors = [major]\n",
    "        self.__GPA = GPA\n",
    "        \n",
    "    def __len__(self):\n",
    "        return len(self.majors)\n",
    "    \n",
    "    def __repr__(self):\n",
    "        return self.fname + \" \" + self.lname\n",
    "    \n",
    "    def add_major(self, *new_majors):\n",
    "        if any([major in self.majors for major in new_majors]):\n",
    "            print(\"You are not allowed to add repeated majors.\")\n",
    "        else:\n",
    "            \n",
    "            self.majors += new_majors\n",
    "            print(\", \".join(new_majors) + \" have been successfully added. \")\n",
    "        \n",
    "    def drop_major(self, major):\n",
    "        if major not in self.majors:\n",
    "            print(\"You haven't declared \" + major + \" major yet.\")\n",
    "        else:\n",
    "            self.majors.remove(major)\n",
    "            print(major + \" has been successfully removed.\")\n",
    "    \n",
    "    def get_gpa(self):\n",
    "        return self.__GPA\n",
    "    \n",
    "    "
   ]
  },
  {
   "cell_type": "code",
   "execution_count": 47,
   "metadata": {},
   "outputs": [],
   "source": [
    "s1 = Student('Ao', 'Qu', 'Math')"
   ]
  },
  {
   "cell_type": "code",
   "execution_count": 48,
   "metadata": {},
   "outputs": [
    {
     "name": "stdout",
     "output_type": "stream",
     "text": [
      "CS, Econ have been successfully added. \n"
     ]
    }
   ],
   "source": [
    " s1.add_major('CS', 'Econ')"
   ]
  },
  {
   "cell_type": "code",
   "execution_count": 49,
   "metadata": {},
   "outputs": [
    {
     "name": "stdout",
     "output_type": "stream",
     "text": [
      "Econ has been successfully removed.\n"
     ]
    }
   ],
   "source": [
    "s1.drop_major('Econ')"
   ]
  },
  {
   "cell_type": "code",
   "execution_count": 52,
   "metadata": {},
   "outputs": [
    {
     "data": {
      "text/plain": [
       "4.0"
      ]
     },
     "execution_count": 52,
     "metadata": {},
     "output_type": "execute_result"
    }
   ],
   "source": [
    "s1.get_gpa()"
   ]
  },
  {
   "cell_type": "markdown",
   "metadata": {},
   "source": [
    "## Class Inheritance"
   ]
  },
  {
   "cell_type": "code",
   "execution_count": 78,
   "metadata": {},
   "outputs": [],
   "source": [
    "dorm_ranking = ['zeppos', 'ebi', 'kissam', 'tolman', 'highland', 'blakemore', 'branscomb']\n",
    "\n",
    "class VandyStudent(Student):\n",
    "    def __init__(self, fname, lname, dorm, advisor, major='Undecided', GPA=4.0):\n",
    "        super().__init__(fname, lname, major=major, GPA=GPA)\n",
    "        self.dorm = dorm.lower()\n",
    "        self.advisor = advisor\n",
    "    \n",
    "    # Override the previously defined method\n",
    "    def __repr__(self):\n",
    "        return self.fname + \" \" + self.lname + \" from \" + self.dorm\n",
    "    \n",
    "    def __gt__(self, other):\n",
    "        first_ranking = dorm_ranking.index(self.dorm) if self.dorm in dorm_ranking else float('inf')\n",
    "        second_ranking = dorm_ranking.index(other.dorm) if other.dorm in dorm_ranking else float('inf')\n",
    "        return first_ranking < second_ranking"
   ]
  },
  {
   "cell_type": "code",
   "execution_count": 79,
   "metadata": {},
   "outputs": [],
   "source": [
    "student1 = VandyStudent('Ao', 'Qu', 'EBI', 'Alex Powell')"
   ]
  },
  {
   "cell_type": "code",
   "execution_count": 80,
   "metadata": {},
   "outputs": [],
   "source": [
    "student2 = VandyStudent('Xuhuan', 'Huang', 'Branscomb', 'Lori Rafter')"
   ]
  },
  {
   "cell_type": "code",
   "execution_count": 81,
   "metadata": {},
   "outputs": [
    {
     "data": {
      "text/plain": [
       "True"
      ]
     },
     "execution_count": 81,
     "metadata": {},
     "output_type": "execute_result"
    }
   ],
   "source": [
    "student1 > student2"
   ]
  },
  {
   "cell_type": "markdown",
   "metadata": {},
   "source": [
    "## Other properties of Python class"
   ]
  },
  {
   "cell_type": "code",
   "execution_count": 83,
   "metadata": {},
   "outputs": [
    {
     "data": {
      "text/plain": [
       "{'fname': 'Ao',\n",
       " 'lname': 'Qu',\n",
       " 'majors': ['Undecided'],\n",
       " '_Student__GPA': 4.0,\n",
       " 'dorm': 'ebi',\n",
       " 'advisor': 'Alex Powell'}"
      ]
     },
     "execution_count": 83,
     "metadata": {},
     "output_type": "execute_result"
    }
   ],
   "source": [
    "# get information\n",
    "student1.__dict__"
   ]
  },
  {
   "cell_type": "code",
   "execution_count": 86,
   "metadata": {},
   "outputs": [
    {
     "name": "stdout",
     "output_type": "stream",
     "text": [
      "True\n",
      "False\n",
      "Qu\n"
     ]
    }
   ],
   "source": [
    "# built-in functions: hasattr and getattr\n",
    "print(hasattr(student1, 'majors'))\n",
    "print(hasattr(student1, 'minors'))\n",
    "\n",
    "print(getattr(student1, 'lname'))"
   ]
  },
  {
   "cell_type": "code",
   "execution_count": 127,
   "metadata": {},
   "outputs": [
    {
     "data": {
      "text/plain": [
       "['_Student__GPA',\n",
       " 'add_major',\n",
       " 'advisor',\n",
       " 'dorm',\n",
       " 'drop_major',\n",
       " 'fname',\n",
       " 'get_gpa',\n",
       " 'lname',\n",
       " 'majors']"
      ]
     },
     "execution_count": 127,
     "metadata": {},
     "output_type": "execute_result"
    }
   ],
   "source": [
    "# get available methods\n",
    "[func for func in dir(student1) if not func.startswith('__')]"
   ]
  },
  {
   "cell_type": "code",
   "execution_count": 134,
   "metadata": {},
   "outputs": [
    {
     "name": "stdout",
     "output_type": "stream",
     "text": [
      "4.0\n",
      "Blakemore\n",
      "21\n"
     ]
    }
   ],
   "source": [
    "# set attributes\n",
    "student1.__GPA = 2.0\n",
    "print(student1.get_gpa())\n",
    "student1.dorm = 'Blakemore'\n",
    "print(student1.dorm)\n",
    "\n",
    "setattr(student1, 'age', 21)\n",
    "print(student1.age)"
   ]
  },
  {
   "cell_type": "markdown",
   "metadata": {},
   "source": [
    "## Decorators"
   ]
  },
  {
   "cell_type": "code",
   "execution_count": 103,
   "metadata": {},
   "outputs": [],
   "source": [
    "# Function as a decorator\n",
    "\n",
    "import time\n",
    "\n",
    "def my_decorator(func):\n",
    "    def new_func(*args, **kwargs):\n",
    "        print('Start executing...')\n",
    "        t1 = time.time()\n",
    "        func(*args, **kwargs)\n",
    "        t2 = time.time()\n",
    "        print(f'Finished executing. It took {t2 - t1} seconds.')\n",
    "    return new_func\n",
    "\n",
    "@my_decorator\n",
    "def add(a, b):\n",
    "    print(a, '+', b, '=', a+b)"
   ]
  },
  {
   "cell_type": "code",
   "execution_count": 104,
   "metadata": {},
   "outputs": [
    {
     "name": "stdout",
     "output_type": "stream",
     "text": [
      "Start executing...\n",
      "1 + 2 = 3\n",
      "Finished executing. It took 0.0018460750579833984 seconds.\n"
     ]
    }
   ],
   "source": [
    "add(1, 2)"
   ]
  },
  {
   "cell_type": "code",
   "execution_count": 106,
   "metadata": {},
   "outputs": [],
   "source": [
    "#Alternative Way:\n",
    "# def my_decorator(func):\n",
    "#     def new_func(*args, **kwargs):\n",
    "#         print('Start executing...')\n",
    "#         t1 = time.time()\n",
    "#         func(*args, **kwargs)\n",
    "#         t2 = time.time()\n",
    "#         print(f'Finished executing. It took {t2 - t1} seconds.')\n",
    "#     return new_func\n",
    "\n",
    "# def add(a, b):\n",
    "#     print(a, '+', b, '=', a+b)\n",
    "    \n",
    "# decorated_add = my_decorator(add)\n",
    "# decorated_add(1, 2)"
   ]
  },
  {
   "cell_type": "code",
   "execution_count": 120,
   "metadata": {},
   "outputs": [],
   "source": [
    "# class as a decorator\n",
    "class Counter:\n",
    "    def __init__(self, func):\n",
    "        self.func = func\n",
    "        self.count = 0\n",
    "    \n",
    "    def __call__(self, *args, **kwargs):\n",
    "        self.count += 1\n",
    "        print(f'This function has been called {self.count} times.')\n",
    "        return self.func(*args, **kwargs)\n",
    "\n",
    "@Counter\n",
    "def Hello(name):\n",
    "    print(f\"Hello, {name}\")\n",
    "    \n",
    "@Counter\n",
    "def add(a, b):\n",
    "    print(a, '+', b, '=', a+b)"
   ]
  },
  {
   "cell_type": "code",
   "execution_count": 121,
   "metadata": {},
   "outputs": [
    {
     "name": "stdout",
     "output_type": "stream",
     "text": [
      "This function has been called 1 times.\n",
      "Hello, Ao\n"
     ]
    }
   ],
   "source": [
    "Hello('Ao')"
   ]
  },
  {
   "cell_type": "code",
   "execution_count": 122,
   "metadata": {},
   "outputs": [
    {
     "name": "stdout",
     "output_type": "stream",
     "text": [
      "This function has been called 2 times.\n",
      "Hello, Qu\n"
     ]
    }
   ],
   "source": [
    "Hello('Qu')"
   ]
  },
  {
   "cell_type": "code",
   "execution_count": 123,
   "metadata": {},
   "outputs": [
    {
     "name": "stdout",
     "output_type": "stream",
     "text": [
      "This function has been called 1 times.\n",
      "1 + 2 = 3\n"
     ]
    }
   ],
   "source": [
    "add(1, 2)"
   ]
  },
  {
   "cell_type": "code",
   "execution_count": 125,
   "metadata": {},
   "outputs": [],
   "source": [
    "# Alternative way:\n",
    "# class Counter:\n",
    "#     def __init__(self, func):\n",
    "#         self.func = func\n",
    "#         self.count = 0\n",
    "    \n",
    "#     def __call__(self, *args, **kwargs):\n",
    "#         self.count += 1\n",
    "#         print(f'This function has been called {self.count} times.')\n",
    "#         return self.func(*args, **kwargs)\n",
    "\n",
    "# def Hello(name):\n",
    "#     print(f\"Hello, {name}\")\n",
    "\n",
    "# decorated_Hello = Counter(Hello)\n",
    "# decorated_Hello('Ao')"
   ]
  }
 ],
 "metadata": {
  "kernelspec": {
   "display_name": "Python 3",
   "language": "python",
   "name": "python3"
  },
  "language_info": {
   "codemirror_mode": {
    "name": "ipython",
    "version": 3
   },
   "file_extension": ".py",
   "mimetype": "text/x-python",
   "name": "python",
   "nbconvert_exporter": "python",
   "pygments_lexer": "ipython3",
   "version": "3.7.6"
  }
 },
 "nbformat": 4,
 "nbformat_minor": 4
}
