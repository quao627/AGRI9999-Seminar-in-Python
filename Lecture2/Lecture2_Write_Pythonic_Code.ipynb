{
 "cells": [
  {
   "cell_type": "markdown",
   "metadata": {},
   "source": [
    "# Review"
   ]
  },
  {
   "cell_type": "markdown",
   "metadata": {},
   "source": [
    "**1. Mutable vs Immutable** <br>\n",
    "Immutable: int, float, bool, str, tuple, etc  <br>\n",
    "Mutable: list, set, dict, custom classes(eg. numpy array, pandas series...), etc <br>\n",
    "__*A mutable object can be changed after it is created, and an immutable object can’t.*__\n",
    "<br>"
   ]
  },
  {
   "cell_type": "code",
   "execution_count": 2,
   "metadata": {},
   "outputs": [
    {
     "name": "stdout",
     "output_type": "stream",
     "text": [
      "3\n",
      "1\n"
     ]
    }
   ],
   "source": [
    "a = 1\n",
    "b = a\n",
    "a += 2\n",
    "print(a)\n",
    "print(b)"
   ]
  },
  {
   "cell_type": "code",
   "execution_count": 3,
   "metadata": {},
   "outputs": [
    {
     "name": "stdout",
     "output_type": "stream",
     "text": [
      "[1, 2, 3]\n",
      "[1, 2, 3]\n"
     ]
    }
   ],
   "source": [
    "a = [1, 2]\n",
    "b = a\n",
    "a.append(3)\n",
    "print(a)\n",
    "print(b)"
   ]
  },
  {
   "cell_type": "markdown",
   "metadata": {},
   "source": [
    "**2. List vs Tuple** <br>\n",
    "1. The literal syntax of tuples is shown by parentheses () whereas the literal syntax of lists is shown by square brackets []. <br>\n",
    "2. List has mutable nature, tuple has immutable nature.\n",
    "3. List has more functionality than the tuple.\n",
    "4. Operations on tuple tend to be faster than list\n",
    "5. Since tuple is immutable, it can be used as a key in dictionary wheareas list cannot."
   ]
  },
  {
   "cell_type": "code",
   "execution_count": 3,
   "metadata": {},
   "outputs": [
    {
     "name": "stdout",
     "output_type": "stream",
     "text": [
      "'tuple' object does not support item assignment\n"
     ]
    }
   ],
   "source": [
    "a = (1, 2, 3)\n",
    "try:\n",
    "    a[1] = 4\n",
    "except:\n",
    "    print(\"'tuple' object does not support item assignment\")"
   ]
  },
  {
   "cell_type": "code",
   "execution_count": 4,
   "metadata": {},
   "outputs": [
    {
     "name": "stdout",
     "output_type": "stream",
     "text": [
      "{(1, 2, 3): 1}\n"
     ]
    }
   ],
   "source": [
    "a = (1, 2, 3)\n",
    "dictionary = dict()\n",
    "dictionary[a] = 1\n",
    "print(dictionary)"
   ]
  },
  {
   "cell_type": "code",
   "execution_count": 7,
   "metadata": {},
   "outputs": [
    {
     "name": "stdout",
     "output_type": "stream",
     "text": [
      "unhashable type: 'list'\n",
      "{}\n"
     ]
    }
   ],
   "source": [
    "a = [1, 2, 3]\n",
    "dictionary = dict()\n",
    "try:\n",
    "    dictionary[a] = 1\n",
    "except:\n",
    "    print('unhashable type: \\'list\\'')\n",
    "print(dictionary)"
   ]
  },
  {
   "cell_type": "markdown",
   "metadata": {},
   "source": [
    "**3, Control Flow** <br>\n",
    "1, For Loop <br>\n",
    "2, While Loop <br>\n",
    "3, break, continue, and pass <br>\n",
    "4, if, elif, else"
   ]
  },
  {
   "cell_type": "code",
   "execution_count": 9,
   "metadata": {},
   "outputs": [],
   "source": [
    "# The pass statement in Python is used when a statement is required syntactically \n",
    "# but you do not want any command or code to execute.\n",
    "for i in range(10):\n",
    "    pass"
   ]
  },
  {
   "cell_type": "code",
   "execution_count": 4,
   "metadata": {},
   "outputs": [
    {
     "name": "stdout",
     "output_type": "stream",
     "text": [
      "1 2 3 4 5 \n",
      "1 2 3 4 5 "
     ]
    }
   ],
   "source": [
    "# print numbers from 1 to 5\n",
    "\n",
    "# while loop\n",
    "i = 1\n",
    "while i <= 5:\n",
    "    print(i, end=\" \")\n",
    "    i += 1\n",
    "\n",
    "print()\n",
    "\n",
    "# for loop\n",
    "for i in range(1, 6):\n",
    "    print(i, end=\" \")"
   ]
  },
  {
   "cell_type": "code",
   "execution_count": 14,
   "metadata": {},
   "outputs": [
    {
     "name": "stdout",
     "output_type": "stream",
     "text": [
      "Please enter an integer: 6\n",
      "The input is divisible by 3\n"
     ]
    }
   ],
   "source": [
    "# if, elif, and else\n",
    "user_input = int(input('Please enter an integer: '))\n",
    "\n",
    "if user_input % 3 == 0:\n",
    "    print(\"The input is divisible by 3\")\n",
    "elif user_input % 3 == 1:\n",
    "    print(\"The input mod 3 is 1\")\n",
    "else:\n",
    "    print(\"The input mod 3 is 2\")"
   ]
  },
  {
   "cell_type": "code",
   "execution_count": 17,
   "metadata": {},
   "outputs": [
    {
     "name": "stdout",
     "output_type": "stream",
     "text": [
      "Non-prime numbers:  [0, 1, 4, 6, 8, 9, 10, 12, 14, 15, 16, 18]\n",
      "The smallest positive integer with exactly 100 factors: 240\n"
     ]
    }
   ],
   "source": [
    "# print the first 20 non-negative integers with prime numebers skipped\n",
    "solution = []\n",
    "prime_numbers = [2,3,5,7,11,13,17,19]\n",
    "for i in range(20):\n",
    "    if i in prime_numbers:\n",
    "        continue\n",
    "    solution.append(i)\n",
    "\n",
    "print(\"Non-prime numbers: \", solution)\n",
    "\n",
    "# Find the first positive integer with 10 factors\n",
    "i = 1\n",
    "while True:\n",
    "    count = 0\n",
    "    for j in range(1, i+1):\n",
    "        if i % j == 0:\n",
    "            count = count + 1\n",
    "    if count == 20:\n",
    "        print(\"The smallest positive integer with exactly 100 factors: {}\".format(i))\n",
    "        break\n",
    "    i += 1"
   ]
  },
  {
   "cell_type": "code",
   "execution_count": 31,
   "metadata": {},
   "outputs": [
    {
     "name": "stdout",
     "output_type": "stream",
     "text": [
      "[1, 4, 8, 2, 5, 6, 7]\n"
     ]
    }
   ],
   "source": [
    "# create a new list b that contains all positive numbers in a\n",
    "a = [1, -2, 4, -1, 8, -10, 2, -3, -2, 5, -1, 6, 7]\n",
    "b = []\n",
    "for item in a:\n",
    "    if item > 0:\n",
    "        b.append(item)\n",
    "print(b)"
   ]
  },
  {
   "cell_type": "code",
   "execution_count": 10,
   "metadata": {},
   "outputs": [
    {
     "name": "stdout",
     "output_type": "stream",
     "text": [
      "[1, 4, 8, 2, -2, 5, 6, 7]\n"
     ]
    }
   ],
   "source": [
    "a = [1, -2, 4, -1, 8, -10, 2, -3, -2, 5, -1, 6, 7]\n",
    "b = a\n",
    "for item in a:\n",
    "    # print(item)\n",
    "    if item <= 0:\n",
    "        b.remove(item)\n",
    "print(b)"
   ]
  },
  {
   "cell_type": "markdown",
   "metadata": {},
   "source": [
    "# Advanced Control Flow"
   ]
  },
  {
   "cell_type": "markdown",
   "metadata": {},
   "source": [
    "## Range"
   ]
  },
  {
   "cell_type": "code",
   "execution_count": 30,
   "metadata": {},
   "outputs": [
    {
     "name": "stdout",
     "output_type": "stream",
     "text": [
      "0 1 2 3 4 5 \n",
      "5 7 9 \n",
      "5 7 9 11 \n",
      "10 9 8 7 6 5 4 3 2 "
     ]
    }
   ],
   "source": [
    "# three parameters: (start(optional, default=0), end(required), step(optiona, default=1))\n",
    "# all parameters need to be integers\n",
    "# we will learn how to deal with decimals later\n",
    "\n",
    "for i in range(6):\n",
    "    print(i, end=' ')\n",
    "\n",
    "print()\n",
    "\n",
    "for i in range(5, 11, 2):\n",
    "    print(i, end=' ')\n",
    "\n",
    "print()\n",
    "\n",
    "for i in range(5, 12, 2):\n",
    "    print(i, end=' ')\n",
    "    \n",
    "print()\n",
    "\n",
    "for i in range(10, 1, -1):\n",
    "    print(i, end=' ')"
   ]
  },
  {
   "cell_type": "markdown",
   "metadata": {},
   "source": [
    "## Enumerate"
   ]
  },
  {
   "cell_type": "code",
   "execution_count": 33,
   "metadata": {},
   "outputs": [
    {
     "name": "stdout",
     "output_type": "stream",
     "text": [
      "0 5\n",
      "1 6\n",
      "2 7\n",
      "[2, 2, 2, 1, 4, 8, 6, 2]\n"
     ]
    }
   ],
   "source": [
    "for index, item in enumerate(range(5, 8)):\n",
    "    print(index, item)\n",
    "    \n",
    "    \n",
    "# if the number at i-th position in a is even, change the i-th position in b to that number\n",
    "a = [1, 2, 3, 5, 4, 5, 6, 7]\n",
    "b = [2, 5, 2, 1, 7, 8, 2, 2]\n",
    "for index, item in enumerate(a):\n",
    "    if item % 2 == 0:\n",
    "        b[index] = item\n",
    "print(b)"
   ]
  },
  {
   "cell_type": "markdown",
   "metadata": {},
   "source": [
    "## Ternary conditional operator (if-else in one line)"
   ]
  },
  {
   "cell_type": "code",
   "execution_count": 34,
   "metadata": {},
   "outputs": [
    {
     "name": "stdout",
     "output_type": "stream",
     "text": [
      "Please enter an integer: 5\n",
      "You entered an odd number\n"
     ]
    }
   ],
   "source": [
    "user_input = int(input(\"Please enter an integer: \"))\n",
    "a = 'even' if user_input % 2 == 0 else 'odd'\n",
    "print(\"You entered an {} number\".format(a))"
   ]
  },
  {
   "cell_type": "markdown",
   "metadata": {},
   "source": [
    "## List comprehension"
   ]
  },
  {
   "cell_type": "code",
   "execution_count": 36,
   "metadata": {},
   "outputs": [
    {
     "name": "stdout",
     "output_type": "stream",
     "text": [
      "[0, 1, 2, 3, 4, 5, 6, 7, 8, 9]\n"
     ]
    }
   ],
   "source": [
    "# create a list containing numbers from 0 to 9\n",
    "a = [i for i in range(10)]\n",
    "print(a)"
   ]
  },
  {
   "cell_type": "code",
   "execution_count": 50,
   "metadata": {},
   "outputs": [
    {
     "name": "stdout",
     "output_type": "stream",
     "text": [
      "[1, 3, 5, 7, 9]\n"
     ]
    }
   ],
   "source": [
    "# create a list containing odd numbers within [0, 9] \n",
    "a = [i for i in range(10) if (i % 2 != 0)]\n",
    "print(a)\n",
    "\n",
    "\n",
    "# a = []\n",
    "# for i in range(10):\n",
    "#     if i % 2 != 0:\n",
    "#         a.append(i)"
   ]
  },
  {
   "cell_type": "code",
   "execution_count": 41,
   "metadata": {},
   "outputs": [
    {
     "name": "stdout",
     "output_type": "stream",
     "text": [
      "[7.0, 11.5, 20.5, 16.0]\n"
     ]
    }
   ],
   "source": [
    "# Given some data (x1_i, x2_i) and a regression model y_i = 3 * x1_i + 1.5 * x2_i + 1, \n",
    "# generate a list [y_1, y_2, ...]\n",
    "data = [(1, 2), (2, 3), (4, 5), (2, 6)]\n",
    "output = [3 * x1 + 1.5 * x2 + 1 for (x1, x2) in data]\n",
    "print(output)"
   ]
  },
  {
   "cell_type": "code",
   "execution_count": 51,
   "metadata": {},
   "outputs": [
    {
     "name": "stdout",
     "output_type": "stream",
     "text": [
      "[11, 7, 6, 16, 8, 13, 9]\n",
      "[1, 7, 6, 6, 8, 3, 9]\n"
     ]
    }
   ],
   "source": [
    "# Add 10 to each of numbers in a\n",
    "a = [1, -3, -4, 6, -2, 3, -1]\n",
    "b = [i + 10 for i in a]\n",
    "print(b)\n",
    "\n",
    "# For numbers in a, add 10 to those less than 0\n",
    "a = [1, -3, -4, 6, -2, 3, -1]\n",
    "b = [i if (i >= 0) else (i + 10) for i in a]\n",
    "print(b)\n",
    "\n",
    "# b = []\n",
    "# for i in a:\n",
    "#     i = i if i >= 0 else i + 10\n",
    "#     b.append(i)"
   ]
  },
  {
   "cell_type": "code",
   "execution_count": 22,
   "metadata": {},
   "outputs": [
    {
     "name": "stdout",
     "output_type": "stream",
     "text": [
      "[(1, 4), (1, 5), (1, 6), (2, 4), (2, 5), (2, 6), (3, 4), (3, 5), (3, 6)]\n",
      "[(1, 4), (1, 5), (1, 6), (2, 4), (2, 5), (2, 6), (3, 4), (3, 5), (3, 6)]\n"
     ]
    }
   ],
   "source": [
    "# return the cartesian product of a and b\n",
    "a = set([1,2,3])\n",
    "b = set([4,5,6])\n",
    "output = [(i, j) for i in a for j in b]\n",
    "print(output)\n",
    "\n",
    "output = []\n",
    "for i in a:\n",
    "    for j in b:\n",
    "        output.append((i, j))\n",
    "print(output)"
   ]
  },
  {
   "cell_type": "code",
   "execution_count": 61,
   "metadata": {},
   "outputs": [
    {
     "name": "stdout",
     "output_type": "stream",
     "text": [
      "[[(1, 4), (2, 4), (3, 4)], [(1, 5), (2, 5), (3, 5)], [(1, 6), (2, 6), (3, 6)]]\n"
     ]
    }
   ],
   "source": [
    "a = set([1,2,3])\n",
    "b = set([4,5,6])\n",
    "output = [[(i, j) for i in a] for j in b]\n",
    "print(output)"
   ]
  },
  {
   "cell_type": "markdown",
   "metadata": {},
   "source": [
    "# Pythonic Codestyle"
   ]
  },
  {
   "cell_type": "markdown",
   "metadata": {},
   "source": [
    "## Tuple Assignment"
   ]
  },
  {
   "cell_type": "code",
   "execution_count": 78,
   "metadata": {},
   "outputs": [
    {
     "name": "stdout",
     "output_type": "stream",
     "text": [
      "Jack 21 CS\n"
     ]
    }
   ],
   "source": [
    "student = (\"Jack\", 21, \"CS\")\n",
    "(name, age, major) = student\n",
    "# name, age, major = student  (this is also valid)\n",
    "print(name, age, studies)"
   ]
  },
  {
   "cell_type": "code",
   "execution_count": 82,
   "metadata": {},
   "outputs": [
    {
     "name": "stdout",
     "output_type": "stream",
     "text": [
      "4 5\n"
     ]
    }
   ],
   "source": [
    "a, b = 4, 5\n",
    "print(a, b)"
   ]
  },
  {
   "cell_type": "code",
   "execution_count": 83,
   "metadata": {},
   "outputs": [
    {
     "name": "stdout",
     "output_type": "stream",
     "text": [
      "5 4\n"
     ]
    }
   ],
   "source": [
    "a, b = b, a\n",
    "print(a, b)\n",
    "\n",
    "# tmp = a\n",
    "# a = b\n",
    "# b = tmp"
   ]
  },
  {
   "cell_type": "markdown",
   "metadata": {},
   "source": [
    "## Asterisk for tuple unpacking"
   ]
  },
  {
   "cell_type": "code",
   "execution_count": 94,
   "metadata": {},
   "outputs": [
    {
     "name": "stdout",
     "output_type": "stream",
     "text": [
      "lemon pear ['watermelon', 'tomato']\n",
      "lemon ['pear', 'watermelon', 'tomato']\n",
      "lemon ['pear', 'watermelon'] tomato\n"
     ]
    }
   ],
   "source": [
    "fruits = ['lemon', 'pear', 'watermelon', 'tomato']\n",
    "\n",
    "first, second, *remaining = fruits\n",
    "print(first, second, remaining)\n",
    "\n",
    "first, *remaining = fruits\n",
    "print(first, remaining)\n",
    "\n",
    "first, *middle, last = fruits\n",
    "print(first, middle, last)"
   ]
  },
  {
   "cell_type": "markdown",
   "metadata": {},
   "source": [
    "## Zip and Unzip"
   ]
  },
  {
   "cell_type": "code",
   "execution_count": 74,
   "metadata": {},
   "outputs": [
    {
     "name": "stdout",
     "output_type": "stream",
     "text": [
      "1 6\n",
      "2 7\n",
      "3 8\n",
      "4 9\n",
      "5 10\n",
      "[(1, 6), (2, 7), (3, 8), (4, 9), (5, 10)]\n"
     ]
    }
   ],
   "source": [
    "# zip a and b\n",
    "a = [1, 2, 3, 4, 5]\n",
    "b = [6, 7, 8, 9, 10]\n",
    "\n",
    "for i, j in zip(a, b):\n",
    "    print(i, j)\n",
    "    \n",
    "output = list(zip(a, b))\n",
    "print(output)"
   ]
  },
  {
   "cell_type": "code",
   "execution_count": 97,
   "metadata": {},
   "outputs": [
    {
     "name": "stdout",
     "output_type": "stream",
     "text": [
      "[('a', 'b', 'c', 'd'), (1, 2, 3, 4)]\n",
      "[('a', 'b', 'c', 'd'), (1, 2, 3, 4)]\n"
     ]
    }
   ],
   "source": [
    "# Use asterisk to unzip\n",
    "print(list(zip(('a', 1), ('b', 2), ('c', 3), ('d', 4))))\n",
    "print(list(zip(*[('a', 1), ('b', 2), ('c', 3), ('d', 4)])))"
   ]
  },
  {
   "cell_type": "markdown",
   "metadata": {},
   "source": [
    "## Iterate through a dictionary"
   ]
  },
  {
   "cell_type": "code",
   "execution_count": 11,
   "metadata": {},
   "outputs": [
    {
     "name": "stdout",
     "output_type": "stream",
     "text": [
      "The most expensive beverage is Apple Juice. It costs 5 dollars\n"
     ]
    }
   ],
   "source": [
    "a = {'Bottled Water': '1 dollar', 'Coke': '2 dollars', 'Apple Juice': '5 dollars'}\n",
    "max_price = -float('inf')\n",
    "max_item = ''\n",
    "for key, value in a.items():\n",
    "    price = int(value.split(' ')[0])\n",
    "    if price > max_price:\n",
    "        max_price = price\n",
    "        max_item = key\n",
    "print('The most expensive beverage is {}. It costs {} dollars'.format(max_item, max_price))"
   ]
  },
  {
   "cell_type": "markdown",
   "metadata": {},
   "source": [
    "# Let's do some practice\n",
    "folder Lecture1 on Github: \n",
    "1. risk.py\n",
    "2. euler.py\n",
    "\n",
    "folder Lecture2 on Github:\n",
    "1. WordCount.py"
   ]
  }
 ],
 "metadata": {
  "kernelspec": {
   "display_name": "Python 3",
   "language": "python",
   "name": "python3"
  },
  "language_info": {
   "codemirror_mode": {
    "name": "ipython",
    "version": 3
   },
   "file_extension": ".py",
   "mimetype": "text/x-python",
   "name": "python",
   "nbconvert_exporter": "python",
   "pygments_lexer": "ipython3",
   "version": "3.7.6"
  }
 },
 "nbformat": 4,
 "nbformat_minor": 4
}
