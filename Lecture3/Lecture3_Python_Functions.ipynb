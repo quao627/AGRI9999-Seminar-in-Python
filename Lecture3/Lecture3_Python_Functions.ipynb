{
 "cells": [
  {
   "cell_type": "markdown",
   "metadata": {},
   "source": [
    "# Functions"
   ]
  },
  {
   "cell_type": "markdown",
   "metadata": {},
   "source": [
    "**Create a function**"
   ]
  },
  {
   "cell_type": "code",
   "execution_count": 124,
   "metadata": {},
   "outputs": [],
   "source": [
    "def hello_world():\n",
    "    print('Hello World!')"
   ]
  },
  {
   "cell_type": "code",
   "execution_count": 125,
   "metadata": {},
   "outputs": [
    {
     "name": "stdout",
     "output_type": "stream",
     "text": [
      "Hello World!\n"
     ]
    }
   ],
   "source": [
    "hello_world()"
   ]
  },
  {
   "cell_type": "code",
   "execution_count": 1,
   "metadata": {},
   "outputs": [],
   "source": [
    "def my_function(fname, lname):\n",
    "    print(\"Hello, \" + fname + \" \" + lname)"
   ]
  },
  {
   "cell_type": "code",
   "execution_count": 2,
   "metadata": {},
   "outputs": [
    {
     "name": "stdout",
     "output_type": "stream",
     "text": [
      "Hello, Ao Qu\n"
     ]
    }
   ],
   "source": [
    "my_function(\"Ao\", \"Qu\")"
   ]
  },
  {
   "cell_type": "markdown",
   "metadata": {},
   "source": [
    "**When input is a list**"
   ]
  },
  {
   "cell_type": "code",
   "execution_count": 3,
   "metadata": {},
   "outputs": [
    {
     "name": "stdout",
     "output_type": "stream",
     "text": [
      "Hello, Ao Qu\n"
     ]
    }
   ],
   "source": [
    "my_function(*['Ao', 'Qu']) # *['Ao', 'Qu'] == 'Ao', 'Qu'"
   ]
  },
  {
   "cell_type": "markdown",
   "metadata": {},
   "source": [
    "**When argument has arbitrary length**"
   ]
  },
  {
   "cell_type": "code",
   "execution_count": 9,
   "metadata": {},
   "outputs": [
    {
     "name": "stdout",
     "output_type": "stream",
     "text": [
      "The first child is Emil\n"
     ]
    }
   ],
   "source": [
    "def my_function(*names):\n",
    "    print(\"The first child is \" + names[0])\n",
    "\n",
    "my_function(\"Emil\", \"Tobias\", \"Linus\")"
   ]
  },
  {
   "cell_type": "markdown",
   "metadata": {},
   "source": [
    "**Function with return**"
   ]
  },
  {
   "cell_type": "code",
   "execution_count": 12,
   "metadata": {},
   "outputs": [],
   "source": [
    "def factorial(num):\n",
    "    if (num < 0) or (num % 1 != 0):\n",
    "        raise ValueError('Please enter a non-negative integer.')\n",
    "    else:\n",
    "        result = 1\n",
    "        for i in range(1, num+1):\n",
    "            result *= i\n",
    "        return result"
   ]
  },
  {
   "cell_type": "code",
   "execution_count": 15,
   "metadata": {},
   "outputs": [
    {
     "name": "stderr",
     "output_type": "stream",
     "text": [
      "Please enter a non-negative integer.\n"
     ]
    }
   ],
   "source": [
    "import logging\n",
    "\n",
    "logger = logging.Logger('catch_all')\n",
    "\n",
    "try:\n",
    "    a = factorial(-1)\n",
    "except Exception as e:\n",
    "    logger.error(e)"
   ]
  },
  {
   "cell_type": "code",
   "execution_count": 16,
   "metadata": {},
   "outputs": [
    {
     "name": "stdout",
     "output_type": "stream",
     "text": [
      "120\n"
     ]
    }
   ],
   "source": [
    "a = factorial(5)\n",
    "print(a)"
   ]
  },
  {
   "cell_type": "markdown",
   "metadata": {},
   "source": [
    "For a complete listing of python built-in exceptions, please see: https://docs.python.org/3/library/exceptions.html <br>\n",
    "Note: You can also create user-defined exceptions. Reference: https://docs.python.org/3/tutorial/errors.html#user-defined-exceptions"
   ]
  },
  {
   "cell_type": "markdown",
   "metadata": {},
   "source": [
    "**Function with named arguments**"
   ]
  },
  {
   "cell_type": "code",
   "execution_count": 22,
   "metadata": {},
   "outputs": [],
   "source": [
    "def student(name, major='Math', school='A&S'):\n",
    "    return {\"Name\": name, \"Major\": major, \"School\": school}\n",
    "\n",
    "s1 = student('Haoran Cao', major='Econ&Hist')\n",
    "s2 = student('Xuhuan Huang')\n",
    "s3 = student('Yuxi Wen', school='Peabody')\n",
    "s4 = student('Ao Qu', major='HOD', school='Peabody')"
   ]
  },
  {
   "cell_type": "code",
   "execution_count": 20,
   "metadata": {},
   "outputs": [
    {
     "name": "stdout",
     "output_type": "stream",
     "text": [
      "{'Name': 'Haoran Cao', 'Major': 'Econ&Hist', 'School': 'A&S'}\n",
      "{'Name': 'Xuhuan Huang', 'Major': 'Math', 'School': 'A&S'}\n",
      "{'Name': 'Yuxi Wen', 'Major': 'Math', 'School': 'Peabody'}\n",
      "{'Name': 'Ao Qu', 'Major': 'HOD', 'School': 'Peabody'}\n"
     ]
    }
   ],
   "source": [
    "print(s1)\n",
    "print(s2)\n",
    "print(s3)\n",
    "print(s4)"
   ]
  },
  {
   "cell_type": "code",
   "execution_count": 56,
   "metadata": {},
   "outputs": [
    {
     "name": "stdout",
     "output_type": "stream",
     "text": [
      "Student's  Name  is  Haoran Cao\n",
      "Student's  Major  is  Econ&Hist\n",
      "Student's  School  is  A&S\n"
     ]
    }
   ],
   "source": [
    "def getStudentInfo(student):\n",
    "    for key, value in student.items():\n",
    "        print(\"Student's \" , key , \" is \", value)\n",
    "        \n",
    "getStudentInfo(s1)"
   ]
  },
  {
   "cell_type": "markdown",
   "metadata": {},
   "source": [
    "**When the input has key-value pairs**"
   ]
  },
  {
   "cell_type": "code",
   "execution_count": 25,
   "metadata": {},
   "outputs": [],
   "source": [
    "def getStudentInfo(**kwargs):\n",
    "    for key, value in kwargs.items() :\n",
    "        print(\"Student's \" , key , \" is \", value)"
   ]
  },
  {
   "cell_type": "code",
   "execution_count": 31,
   "metadata": {},
   "outputs": [
    {
     "name": "stdout",
     "output_type": "stream",
     "text": [
      "Student's  Name  is  Haoran Cao\n",
      "Student's  Major  is  Econ&Hist\n",
      "Student's  School  is  A&S\n"
     ]
    }
   ],
   "source": [
    "getStudentInfo(Name='Haoran Cao', Major='Econ&Hist', School='A&S')"
   ]
  },
  {
   "cell_type": "code",
   "execution_count": 50,
   "metadata": {},
   "outputs": [
    {
     "name": "stdout",
     "output_type": "stream",
     "text": [
      "Student's  Name  is  Haoran Cao\n",
      "Student's  Major  is  Econ&Hist\n",
      "Student's  School  is  A&S\n"
     ]
    }
   ],
   "source": [
    "getStudentInfo(**s1)"
   ]
  },
  {
   "cell_type": "markdown",
   "metadata": {},
   "source": [
    "**Put them all together**"
   ]
  },
  {
   "cell_type": "code",
   "execution_count": 32,
   "metadata": {},
   "outputs": [],
   "source": [
    "def combinedFunction(name, *scores, **kwargs):\n",
    "    print(name)\n",
    "    print('Average score: ', sum(scores) / len(scores))\n",
    "    for key, value in kwargs.items():\n",
    "        print(name + \"'s \" , key , \" is \", value)"
   ]
  },
  {
   "cell_type": "code",
   "execution_count": 36,
   "metadata": {},
   "outputs": [
    {
     "name": "stdout",
     "output_type": "stream",
     "text": [
      "Ao\n",
      "Average score:  84.0\n",
      "Ao's  course  is  Small Group Behavior\n",
      "Ao's  major  is  HOD\n"
     ]
    }
   ],
   "source": [
    "combinedFunction('Ao', 82, 79, 91, course='Small Group Behavior', major='HOD')"
   ]
  },
  {
   "cell_type": "markdown",
   "metadata": {},
   "source": [
    "## Function scope"
   ]
  },
  {
   "cell_type": "code",
   "execution_count": 38,
   "metadata": {},
   "outputs": [
    {
     "name": "stdout",
     "output_type": "stream",
     "text": [
      "Hello, Ao Qu\n"
     ]
    }
   ],
   "source": [
    "def my_function():\n",
    "    print(\"Hello, \" + fname + \" \" + lname)\n",
    "    \n",
    "fname = 'Ao'\n",
    "lname = 'Qu'\n",
    "my_function()"
   ]
  },
  {
   "cell_type": "markdown",
   "metadata": {},
   "source": [
    "**A comparison of three scenarios**"
   ]
  },
  {
   "cell_type": "code",
   "execution_count": 39,
   "metadata": {},
   "outputs": [
    {
     "name": "stderr",
     "output_type": "stream",
     "text": [
      "local variable 'a' referenced before assignment\n"
     ]
    }
   ],
   "source": [
    "def addOne():\n",
    "    a = a + 1\n",
    "\n",
    "a = 0\n",
    "try:\n",
    "    addOne()\n",
    "except Exception as e:\n",
    "    logger.error(e)\n",
    "# print(a)"
   ]
  },
  {
   "cell_type": "code",
   "execution_count": 25,
   "metadata": {},
   "outputs": [
    {
     "name": "stdout",
     "output_type": "stream",
     "text": [
      "0\n"
     ]
    }
   ],
   "source": [
    "def addOne():\n",
    "    a = 1\n",
    "\n",
    "a = 0\n",
    "addOne()\n",
    "print(a)"
   ]
  },
  {
   "cell_type": "code",
   "execution_count": 41,
   "metadata": {},
   "outputs": [
    {
     "name": "stdout",
     "output_type": "stream",
     "text": [
      "1\n",
      "0\n"
     ]
    }
   ],
   "source": [
    "def addOne():\n",
    "    b = a\n",
    "    b = b + 1\n",
    "    print(b)\n",
    "    \n",
    "a = 0\n",
    "addOne()\n",
    "print(a)"
   ]
  },
  {
   "cell_type": "code",
   "execution_count": 44,
   "metadata": {},
   "outputs": [
    {
     "name": "stdout",
     "output_type": "stream",
     "text": [
      "1\n"
     ]
    }
   ],
   "source": [
    "a = 0\n",
    "\n",
    "def addOne():\n",
    "    global a\n",
    "    a += 1\n",
    "\n",
    "addOne()\n",
    "print(a)"
   ]
  },
  {
   "cell_type": "markdown",
   "metadata": {},
   "source": [
    "# Lambda Functions"
   ]
  },
  {
   "cell_type": "code",
   "execution_count": 45,
   "metadata": {},
   "outputs": [
    {
     "data": {
      "text/plain": [
       "2"
      ]
     },
     "execution_count": 45,
     "metadata": {},
     "output_type": "execute_result"
    }
   ],
   "source": [
    "addOne = lambda x: x + 1\n",
    "addOne(1)"
   ]
  },
  {
   "cell_type": "code",
   "execution_count": 46,
   "metadata": {},
   "outputs": [
    {
     "data": {
      "text/plain": [
       "3"
      ]
     },
     "execution_count": 46,
     "metadata": {},
     "output_type": "execute_result"
    }
   ],
   "source": [
    "add = lambda x: x[0] + x[1]\n",
    "add([1,2])"
   ]
  },
  {
   "cell_type": "code",
   "execution_count": 47,
   "metadata": {},
   "outputs": [
    {
     "data": {
      "text/plain": [
       "3"
      ]
     },
     "execution_count": 47,
     "metadata": {},
     "output_type": "execute_result"
    }
   ],
   "source": [
    "add = lambda a, b: a + b\n",
    "add(1, 2)"
   ]
  },
  {
   "cell_type": "markdown",
   "metadata": {},
   "source": [
    "Challenge: How to write this using * so that we can calculate an arbitrary number of inputs?"
   ]
  },
  {
   "cell_type": "code",
   "execution_count": 50,
   "metadata": {},
   "outputs": [],
   "source": [
    "add = lambda *x: sum(x)"
   ]
  },
  {
   "cell_type": "markdown",
   "metadata": {},
   "source": [
    "# Built-in Functions"
   ]
  },
  {
   "cell_type": "markdown",
   "metadata": {},
   "source": [
    "*We have already encountered many of them. eg. len(), sum(), int(), print(), zip(), type(), etc*"
   ]
  },
  {
   "cell_type": "code",
   "execution_count": 63,
   "metadata": {},
   "outputs": [
    {
     "name": "stdout",
     "output_type": "stream",
     "text": [
      "[-4, -2, 1, 3, 5]\n",
      "[5, -4, 3, -2, 1]\n"
     ]
    }
   ],
   "source": [
    "# sorted\n",
    "a = [1, 5, -2, 3, -4]\n",
    "print(sorted(a))\n",
    "print(sorted(a, key=lambda x: abs(x), reverse=True)) # sort from largest to smallest by absolute values"
   ]
  },
  {
   "cell_type": "code",
   "execution_count": 66,
   "metadata": {},
   "outputs": [
    {
     "name": "stdout",
     "output_type": "stream",
     "text": [
      "1\n",
      "3\n"
     ]
    }
   ],
   "source": [
    "# next & iter\n",
    "a = [1, 3, 5]\n",
    "iterable = iter(a)\n",
    "print(next(iterable))\n",
    "print(next(iterable))"
   ]
  },
  {
   "cell_type": "code",
   "execution_count": 73,
   "metadata": {},
   "outputs": [
    {
     "name": "stdout",
     "output_type": "stream",
     "text": [
      "3\n",
      "-5\n"
     ]
    }
   ],
   "source": [
    "# max & min\n",
    "a = [1, 3, -5]\n",
    "print(max(a))\n",
    "print(min(a))"
   ]
  },
  {
   "cell_type": "code",
   "execution_count": 79,
   "metadata": {},
   "outputs": [
    {
     "name": "stdout",
     "output_type": "stream",
     "text": [
      "a contains negative number\n",
      "Not all numbers in a are negative\n"
     ]
    }
   ],
   "source": [
    "# any & all\n",
    "a = [1, -3, 5]\n",
    "if any([i<0 for i in a]):\n",
    "    print('a contains negative number')\n",
    "\n",
    "if not all([i<0 for i in a]):\n",
    "    print('Not all numbers in a are negative')"
   ]
  },
  {
   "cell_type": "markdown",
   "metadata": {},
   "source": [
    "# Add Constraints in Functions"
   ]
  },
  {
   "cell_type": "markdown",
   "metadata": {},
   "source": [
    "Newton's Method: $x_{n+1} = x_{n} - \\frac{f(x_n)}{f'(x_n)}$ <br>\n",
    "Sufficient convergence condition: f is convex and differentiable <br>\n",
    "Find the root of a: $f(x) = a - x^2 \\Rightarrow x_{n+1} = x_n - \\frac{a - x_n ^2}{-2 x_n}$"
   ]
  },
  {
   "cell_type": "code",
   "execution_count": 84,
   "metadata": {},
   "outputs": [],
   "source": [
    "# three ways:\n",
    "# 1, specify type in function (not recommended)\n",
    "# 2, add assert \n",
    "# 3, use try & except\n",
    "# 4, use if & raise\n",
    "\n",
    "def sqrt(guess: float, num: float) -> float:\n",
    "    assert (num >= 0) and (type(num) in [float, int])\n",
    "    assert (guess != 0) and (type(guess) in [float, int])\n",
    "    if abs(num - (guess**2)) <= 10e-12:\n",
    "        return guess\n",
    "    else: \n",
    "        return sqrt(guess + (num - guess**2) / (2 * guess), num)"
   ]
  },
  {
   "cell_type": "code",
   "execution_count": 87,
   "metadata": {},
   "outputs": [
    {
     "data": {
      "text/plain": [
       "1.4142135623746899"
      ]
     },
     "execution_count": 87,
     "metadata": {},
     "output_type": "execute_result"
    }
   ],
   "source": [
    "sqrt(1, 2)"
   ]
  },
  {
   "cell_type": "markdown",
   "metadata": {},
   "source": [
    "# Exercise"
   ]
  },
  {
   "cell_type": "markdown",
   "metadata": {},
   "source": [
    "* risk.py \n",
    "* euler.py \n",
    "* word_count.py "
   ]
  }
 ],
 "metadata": {
  "kernelspec": {
   "display_name": "Python 3",
   "language": "python",
   "name": "python3"
  },
  "language_info": {
   "codemirror_mode": {
    "name": "ipython",
    "version": 3
   },
   "file_extension": ".py",
   "mimetype": "text/x-python",
   "name": "python",
   "nbconvert_exporter": "python",
   "pygments_lexer": "ipython3",
   "version": "3.7.6"
  }
 },
 "nbformat": 4,
 "nbformat_minor": 4
}
