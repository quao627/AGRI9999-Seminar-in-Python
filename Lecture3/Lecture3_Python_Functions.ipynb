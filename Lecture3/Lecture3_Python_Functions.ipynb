{
 "cells": [
  {
   "cell_type": "markdown",
   "metadata": {},
   "source": [
    "# Functions"
   ]
  },
  {
   "cell_type": "markdown",
   "metadata": {},
   "source": [
    "**Create a function**"
   ]
  },
  {
   "cell_type": "code",
   "execution_count": 5,
   "metadata": {},
   "outputs": [],
   "source": [
    "def my_function(fname, lname):\n",
    "    print(\"Hello, \" + fname + \" \" + lname)"
   ]
  },
  {
   "cell_type": "code",
   "execution_count": 6,
   "metadata": {},
   "outputs": [
    {
     "name": "stdout",
     "output_type": "stream",
     "text": [
      "Hello, Ao Qu\n"
     ]
    }
   ],
   "source": [
    "my_function(\"Ao\", \"Qu\")"
   ]
  },
  {
   "cell_type": "markdown",
   "metadata": {},
   "source": [
    "**When input is a list**"
   ]
  },
  {
   "cell_type": "code",
   "execution_count": 11,
   "metadata": {},
   "outputs": [
    {
     "name": "stdout",
     "output_type": "stream",
     "text": [
      "Hello, Ao Qu\n"
     ]
    }
   ],
   "source": [
    "my_function(*['Ao', 'Qu'])"
   ]
  },
  {
   "cell_type": "markdown",
   "metadata": {},
   "source": [
    "**When argument has arbitrary length**"
   ]
  },
  {
   "cell_type": "code",
   "execution_count": 46,
   "metadata": {},
   "outputs": [
    {
     "name": "stdout",
     "output_type": "stream",
     "text": [
      "The first child is Emil\n"
     ]
    }
   ],
   "source": [
    "def my_function(*args):\n",
    "    print(\"The first child is \" + args[0])\n",
    "\n",
    "my_function(\"Emil\", \"Tobias\", \"Linus\")"
   ]
  },
  {
   "cell_type": "markdown",
   "metadata": {},
   "source": [
    "**Function with return**"
   ]
  },
  {
   "cell_type": "code",
   "execution_count": 18,
   "metadata": {},
   "outputs": [],
   "source": [
    "def factorial(num):\n",
    "    if (num < 0) or (num % 1 != 0):\n",
    "        raise ValueError('Please enter a non-negative integer.')\n",
    "    else:\n",
    "        result = 1\n",
    "        for i in range(1, num+1):\n",
    "            result *= i\n",
    "        return result"
   ]
  },
  {
   "cell_type": "code",
   "execution_count": 19,
   "metadata": {},
   "outputs": [
    {
     "name": "stderr",
     "output_type": "stream",
     "text": [
      "Please enter a non-negative integer.\n"
     ]
    }
   ],
   "source": [
    "import logging\n",
    "\n",
    "logger = logging.Logger('catch_all')\n",
    "\n",
    "try:\n",
    "    a = factorial(-1)\n",
    "except Exception as e:\n",
    "    logger.error(e)"
   ]
  },
  {
   "cell_type": "code",
   "execution_count": 20,
   "metadata": {},
   "outputs": [
    {
     "name": "stdout",
     "output_type": "stream",
     "text": [
      "120\n"
     ]
    }
   ],
   "source": [
    "a = factorial(5)\n",
    "print(a)"
   ]
  },
  {
   "cell_type": "markdown",
   "metadata": {},
   "source": [
    "For a complete listing of python built-in exceptions, please see: https://docs.python.org/3/library/exceptions.html <br>\n",
    "Note: You can also create user-defined exceptions. Reference: https://docs.python.org/3/tutorial/errors.html#user-defined-exceptions"
   ]
  },
  {
   "cell_type": "markdown",
   "metadata": {},
   "source": [
    "**Function with named arguments**"
   ]
  },
  {
   "cell_type": "code",
   "execution_count": 39,
   "metadata": {},
   "outputs": [],
   "source": [
    "def student(name, major='Math', school='A&S'):\n",
    "    return {\"Name\": name, \"Major\": major, \"School\": school}\n",
    "\n",
    "s1 = student('Haoran Cao', major='Econ&Hist')\n",
    "s2 = student('Xuhuan Huang')\n",
    "s3 = student('Yuxi Wen', school='Peabody')\n",
    "s4 = student('Ao Qu', major='HOD', school='Peabody')"
   ]
  },
  {
   "cell_type": "code",
   "execution_count": 40,
   "metadata": {},
   "outputs": [
    {
     "name": "stdout",
     "output_type": "stream",
     "text": [
      "{'Name': 'Haoran Cao', 'Major': 'Econ&Hist', 'School': 'A&S'}\n",
      "{'Name': 'Xuhuan Huang', 'Major': 'Math', 'School': 'A&S'}\n",
      "{'Name': 'Yuxi Wen', 'Major': 'Math', 'School': 'Peabody'}\n",
      "{'Name': 'Ao Qu', 'Major': 'HOD', 'School': 'Peabody'}\n"
     ]
    }
   ],
   "source": [
    "print(s1)\n",
    "print(s2)\n",
    "print(s3)\n",
    "print(s4)"
   ]
  },
  {
   "cell_type": "code",
   "execution_count": 56,
   "metadata": {},
   "outputs": [
    {
     "name": "stdout",
     "output_type": "stream",
     "text": [
      "Student's  Name  is  Haoran Cao\n",
      "Student's  Major  is  Econ&Hist\n",
      "Student's  School  is  A&S\n"
     ]
    }
   ],
   "source": [
    "def getStudentInfo(student):\n",
    "    for key, value in student.items():\n",
    "        print(\"Student's \" , key , \" is \", value)\n",
    "        \n",
    "getStudentInfo(s1)"
   ]
  },
  {
   "cell_type": "markdown",
   "metadata": {},
   "source": [
    "**When the input has key-value pairs**"
   ]
  },
  {
   "cell_type": "code",
   "execution_count": 47,
   "metadata": {},
   "outputs": [],
   "source": [
    "def getStudentInfo(**kwargs):\n",
    "    for key, value in kwargs.items() :\n",
    "        print(\"Student's \" , key , \" is \", value)"
   ]
  },
  {
   "cell_type": "code",
   "execution_count": 55,
   "metadata": {},
   "outputs": [
    {
     "name": "stdout",
     "output_type": "stream",
     "text": [
      "Student's  Name  is  Haoran Cao\n",
      "Student's  Major  is  Econ&Hist\n",
      "Student's  School  is  A&S\n"
     ]
    }
   ],
   "source": [
    "getStudentInfo(Name='Haoran Cao', Major='Econ&Hist', School='A&S')"
   ]
  },
  {
   "cell_type": "code",
   "execution_count": 50,
   "metadata": {},
   "outputs": [
    {
     "name": "stdout",
     "output_type": "stream",
     "text": [
      "Student's  Name  is  Haoran Cao\n",
      "Student's  Major  is  Econ&Hist\n",
      "Student's  School  is  A&S\n"
     ]
    }
   ],
   "source": [
    "getStudentInfo(**s1)"
   ]
  },
  {
   "cell_type": "markdown",
   "metadata": {},
   "source": [
    "**Put them all together**"
   ]
  },
  {
   "cell_type": "code",
   "execution_count": 70,
   "metadata": {},
   "outputs": [],
   "source": [
    "def combinedFunction(name, *args, **kwargs):\n",
    "    print('name')\n",
    "    print('Average score: ', sum(args) / len(args))\n",
    "    for key, value in kwargs.items():\n",
    "        print(name + \"'s \" , key , \" is \", value)"
   ]
  },
  {
   "cell_type": "code",
   "execution_count": 71,
   "metadata": {},
   "outputs": [
    {
     "name": "stdout",
     "output_type": "stream",
     "text": [
      "name\n",
      "Average score:  84.0\n",
      "Ao's  course  is  Small Group Behavior\n",
      "Ao's  major  is  HOD\n"
     ]
    }
   ],
   "source": [
    "combinedFunction('Ao', 82, 79, 91, course='Small Group Behavior', major='HOD')"
   ]
  },
  {
   "cell_type": "markdown",
   "metadata": {},
   "source": [
    "## Function scope"
   ]
  },
  {
   "cell_type": "code",
   "execution_count": 21,
   "metadata": {},
   "outputs": [
    {
     "name": "stdout",
     "output_type": "stream",
     "text": [
      "Hello, Ao Qu\n"
     ]
    }
   ],
   "source": [
    "def my_function():\n",
    "    print(\"Hello, \" + fname + \" \" + lname)\n",
    "    \n",
    "fname = 'Ao'\n",
    "lname = 'Qu'\n",
    "my_function()"
   ]
  },
  {
   "cell_type": "markdown",
   "metadata": {},
   "source": [
    "**A comparison of three scenarios**"
   ]
  },
  {
   "cell_type": "code",
   "execution_count": 31,
   "metadata": {},
   "outputs": [
    {
     "name": "stderr",
     "output_type": "stream",
     "text": [
      "local variable 'a' referenced before assignment\n"
     ]
    }
   ],
   "source": [
    "def addOne():\n",
    "    a += 1\n",
    "\n",
    "a = 0\n",
    "try:\n",
    "    addOne()\n",
    "except Exception as e:\n",
    "    logger.error(e)\n",
    "# print(a)"
   ]
  },
  {
   "cell_type": "code",
   "execution_count": 25,
   "metadata": {},
   "outputs": [
    {
     "name": "stdout",
     "output_type": "stream",
     "text": [
      "0\n"
     ]
    }
   ],
   "source": [
    "def addOne():\n",
    "    a = 1\n",
    "\n",
    "a = 0\n",
    "addOne()\n",
    "print(a)"
   ]
  },
  {
   "cell_type": "code",
   "execution_count": 84,
   "metadata": {},
   "outputs": [
    {
     "name": "stdout",
     "output_type": "stream",
     "text": [
      "1\n",
      "0\n"
     ]
    }
   ],
   "source": [
    "def addOne():\n",
    "    b = a\n",
    "    b += 1\n",
    "    print(b)\n",
    "    \n",
    "a = 0\n",
    "addOne()\n",
    "print(a)"
   ]
  },
  {
   "cell_type": "code",
   "execution_count": 27,
   "metadata": {},
   "outputs": [
    {
     "name": "stdout",
     "output_type": "stream",
     "text": [
      "1\n"
     ]
    }
   ],
   "source": [
    "a = 0\n",
    "\n",
    "def addOne():\n",
    "    global a\n",
    "    a += 1\n",
    "\n",
    "addOne()\n",
    "print(a)"
   ]
  },
  {
   "cell_type": "markdown",
   "metadata": {},
   "source": [
    "# Lambda Functions"
   ]
  },
  {
   "cell_type": "code",
   "execution_count": 72,
   "metadata": {},
   "outputs": [
    {
     "data": {
      "text/plain": [
       "2"
      ]
     },
     "execution_count": 72,
     "metadata": {},
     "output_type": "execute_result"
    }
   ],
   "source": [
    "addOne = lambda x: x + 1\n",
    "addOne(1)"
   ]
  },
  {
   "cell_type": "code",
   "execution_count": 32,
   "metadata": {},
   "outputs": [
    {
     "data": {
      "text/plain": [
       "3"
      ]
     },
     "execution_count": 32,
     "metadata": {},
     "output_type": "execute_result"
    }
   ],
   "source": [
    "add = lambda x: x[0] + x[1]\n",
    "add([1,2])"
   ]
  },
  {
   "cell_type": "code",
   "execution_count": 73,
   "metadata": {},
   "outputs": [
    {
     "data": {
      "text/plain": [
       "3"
      ]
     },
     "execution_count": 73,
     "metadata": {},
     "output_type": "execute_result"
    }
   ],
   "source": [
    "add = lambda a,b: a + b\n",
    "add(1, 2)"
   ]
  },
  {
   "cell_type": "markdown",
   "metadata": {},
   "source": [
    "Challenge: How to write this using * so that we can calculate an arbitrary number of inputs?"
   ]
  },
  {
   "cell_type": "markdown",
   "metadata": {},
   "source": [
    "# Built-in Functions"
   ]
  },
  {
   "cell_type": "markdown",
   "metadata": {},
   "source": [
    "*We have already encountered many of them. eg. len(), sum(), int(), print(), zip(), type(), etc*"
   ]
  },
  {
   "cell_type": "code",
   "execution_count": 76,
   "metadata": {},
   "outputs": [
    {
     "name": "stdout",
     "output_type": "stream",
     "text": [
      "[-4, -2, 1, 3, 5]\n",
      "[5, -4, 3, -2, 1]\n"
     ]
    }
   ],
   "source": [
    "# sorted\n",
    "a = [1, 5, -2, 3, -4]\n",
    "print(sorted(a))\n",
    "print(sorted(a, key=lambda x: abs(x), reverse=True))"
   ]
  },
  {
   "cell_type": "code",
   "execution_count": 79,
   "metadata": {},
   "outputs": [
    {
     "name": "stdout",
     "output_type": "stream",
     "text": [
      "1\n",
      "3\n"
     ]
    }
   ],
   "source": [
    "# next & iter\n",
    "a = [1, 3, 5]\n",
    "iterable = iter(a)\n",
    "print(next(iterable))\n",
    "print(next(iterable))"
   ]
  },
  {
   "cell_type": "code",
   "execution_count": 80,
   "metadata": {},
   "outputs": [
    {
     "name": "stdout",
     "output_type": "stream",
     "text": [
      "5\n",
      "1\n"
     ]
    }
   ],
   "source": [
    "# max & min\n",
    "a = [1, 3, 5]\n",
    "print(max(a))\n",
    "print(min(a))"
   ]
  },
  {
   "cell_type": "code",
   "execution_count": 82,
   "metadata": {},
   "outputs": [
    {
     "name": "stdout",
     "output_type": "stream",
     "text": [
      "a contains negative number\n",
      "Not all numbers in a are negative\n"
     ]
    }
   ],
   "source": [
    "# any & all\n",
    "a = [1, -3, 5]\n",
    "if any([i<0 for i in a]):\n",
    "    print('a contains negative number')\n",
    "\n",
    "if not all([i<0 for i in a]):\n",
    "    print('Not all numbers in a are negative')"
   ]
  },
  {
   "cell_type": "markdown",
   "metadata": {},
   "source": [
    "# Exercise"
   ]
  },
  {
   "cell_type": "markdown",
   "metadata": {},
   "source": [
    "* risk.py \n",
    "* euler.py \n",
    "* word_count.py "
   ]
  },
  {
   "cell_type": "code",
   "execution_count": 4,
   "metadata": {},
   "outputs": [
    {
     "name": "stderr",
     "output_type": "stream",
     "text": [
      "/Users/aoqu/opt/anaconda3/lib/python3.7/site-packages/markovchain/text/formatter.py:93: FutureWarning: Possible nested set at position 12\n",
      "  self.replace.append((re.compile(expr, flags), repl, custom_flags))\n"
     ]
    },
    {
     "name": "stdout",
     "output_type": "stream",
     "text": [
      "Take her to class.\n",
      "Sentence start a math credit by her lectures in the slides.\n"
     ]
    }
   ],
   "source": [
    "from markovchain import JsonStorage\n",
    "from markovchain.text import MarkovText, ReplyMode\n",
    "\n",
    "markov = MarkovText()\n",
    "\n",
    "\n",
    "with open('reviews.txt') as fp:\n",
    "    for line in fp:\n",
    "        markov.data(line, part=True)\n",
    "markov.data('', part=False)\n",
    "\n",
    "print(markov())\n",
    "print(markov(max_length=16, reply_to='sentence start', reply_mode=ReplyMode.END))\n",
    "\n",
    "markov.save('markov.json')\n",
    "\n",
    "markov = MarkovText.from_file('markov.json')"
   ]
  },
  {
   "cell_type": "code",
   "execution_count": 17,
   "metadata": {},
   "outputs": [
    {
     "name": "stdout",
     "output_type": "stream",
     "text": [
      "Learning model...\n"
     ]
    },
    {
     "ename": "TypeError",
     "evalue": "unhashable type: 'list'",
     "output_type": "error",
     "traceback": [
      "\u001b[0;31m---------------------------------------------------------------------------\u001b[0m",
      "\u001b[0;31mTypeError\u001b[0m                                 Traceback (most recent call last)",
      "\u001b[0;32m<ipython-input-17-27dea7b26760>\u001b[0m in \u001b[0;36m<module>\u001b[0;34m\u001b[0m\n\u001b[1;32m     13\u001b[0m     \u001b[0mstate\u001b[0m \u001b[0;34m=\u001b[0m \u001b[0mdata\u001b[0m\u001b[0;34m[\u001b[0m\u001b[0mi\u001b[0m\u001b[0;34m:\u001b[0m\u001b[0mi\u001b[0m \u001b[0;34m+\u001b[0m \u001b[0mSTATE_LEN\u001b[0m\u001b[0;34m]\u001b[0m\u001b[0;34m\u001b[0m\u001b[0;34m\u001b[0m\u001b[0m\n\u001b[1;32m     14\u001b[0m     \u001b[0mnext\u001b[0m \u001b[0;34m=\u001b[0m \u001b[0mdata\u001b[0m\u001b[0;34m[\u001b[0m\u001b[0mi\u001b[0m \u001b[0;34m+\u001b[0m \u001b[0mSTATE_LEN\u001b[0m\u001b[0;34m]\u001b[0m\u001b[0;34m\u001b[0m\u001b[0;34m\u001b[0m\u001b[0m\n\u001b[0;32m---> 15\u001b[0;31m     \u001b[0mmodel\u001b[0m\u001b[0;34m[\u001b[0m\u001b[0mstate\u001b[0m\u001b[0;34m]\u001b[0m\u001b[0;34m[\u001b[0m\u001b[0mnext\u001b[0m\u001b[0;34m]\u001b[0m \u001b[0;34m+=\u001b[0m \u001b[0;36m1\u001b[0m\u001b[0;34m\u001b[0m\u001b[0;34m\u001b[0m\u001b[0m\n\u001b[0m\u001b[1;32m     16\u001b[0m \u001b[0;34m\u001b[0m\u001b[0m\n\u001b[1;32m     17\u001b[0m \u001b[0mprint\u001b[0m\u001b[0;34m(\u001b[0m\u001b[0;34m'Sampling...'\u001b[0m\u001b[0;34m)\u001b[0m\u001b[0;34m\u001b[0m\u001b[0;34m\u001b[0m\u001b[0m\n",
      "\u001b[0;31mTypeError\u001b[0m: unhashable type: 'list'"
     ]
    }
   ],
   "source": [
    "from collections import defaultdict, Counter\n",
    "import random\n",
    "import sys\n",
    "\n",
    "\n",
    "with open('reviews.txt') as f:\n",
    "    data = f.read()\n",
    "    data = data.split(' ')\n",
    "model = defaultdict(Counter)\n",
    "\n",
    "print('Learning model...')\n",
    "for i in range(len(data) - STATE_LEN):\n",
    "    state = data[i:i + STATE_LEN]\n",
    "    next = data[i + STATE_LEN]\n",
    "    model[state][next] += 1\n",
    "\n",
    "print('Sampling...')\n",
    "state = random.choice(list(model))\n",
    "out = list(state)\n",
    "for i in range(400):\n",
    "    out.extend(random.choices(list(model[state]), model[state].values()))\n",
    "    state = state[1:] + out[-1]\n",
    "print(''.join(out))"
   ]
  },
  {
   "cell_type": "code",
   "execution_count": 95,
   "metadata": {},
   "outputs": [
    {
     "name": "stdout",
     "output_type": "stream",
     "text": [
      "['some', 'real', 'talk:', 'rafter', 'is', 'a', 'good', 'choice', 'for', 'calc', 'courses', 'and', 'you', 'get', 'an', 'a', 'as', 'long', 'as', 'you', 'put', 'in', 'any', 'effort', 'and', 'have', 'half', 'a', 'brain.', 'frankly,', 'the', 'number', 'of', 'whinging', 'comments', 'on', 'here', 'comes', 'across', 'as', 'blatant', 'sexism.']\n",
      "['prof.', 'rafter', 'is', 'quite', 'possibly', 'the', 'worst', 'person', \"i've\", 'had', 'the', 'misfortune', 'of', 'meeting.', 'lectures', 'by', 'screaming,', 'pays', 'little', 'to', 'no', 'attention', 'to', 'virtual', 'students,', 'and', 'when', 'she', 'does,', 'she', 'never', 'sets', 'the', 'volume', 'to', 'be', 'able', 'to', 'hear', 'them.', 'tests', 'are', 'impossible,', 'i', \"didn't\", 'finish', 'more', 'than', '75%', 'of', 'any', 'hw', 'and', 'practice', 'problems', 'pale', 'in', 'comparison', 'to', 'the', 'tests.', 'avoid!!']\n",
      "['rafter', 'is', 'an', 'excellent', 'teacher!', 'she', 'is', 'great', 'at', 'explaining', 'why', 'something', 'works,', 'rather', 'than', 'just', 'telling', 'you', 'it', 'will.', 'i', 'have', 'a', 'better', 'understanding', 'of', 'calculus', 'than', 'i', 'have', 'ever', 'had', 'because', 'of', 'her.', 'plus,', 'she', 'is', 'passionate', 'and', 'puts', 'energy', 'into', 'every', 'lecture.', 'most', \"don't\", 'like', 'her', 'because', 'her', 'test', 'are', 'very', 'hard', 'and', 'hw', \"doesn't\", 'help.', \"it's\", 'hard', 'to', 'get', 'an', 'a']\n",
      "['dr.', 'rafter', 'is', 'very', 'passionate', 'about', 'math', 'and', 'her', 'lectures', 'are', 'very', 'thorough.', 'however,', 'she', 'only', 'discusses', 'the', 'proofs', 'of', 'each', 'concept', 'and', 'leaves', 'you', 'to', 'figure', 'out', 'extremely', 'difficult', 'problems', 'on', 'your', 'own.', 'the', 'tests', 'are', 'ridiculously', 'hard', 'and', 'there', 'is', 'never', 'enough', 'time', 'to', 'complete', 'the', 'whole', 'test.', 'not', 'a', 'good', 'measure', 'of', 'your', 'understanding.']\n",
      "['professor', 'rafter', 'is', 'the', 'best', 'you', 'can', 'have', 'at', 'vanderbilt', 'math!', 'she', 'is', 'always', 'energetic', 'in', 'class', 'and', 'passionate', 'about', 'the', 'material.', 'she', 'structures', 'the', 'lectures', 'well', 'so', 'you', \"won't\", 'get', 'lost.', 'take', 'notes', 'in', 'class', 'and', \"you'll\", 'be', 'prepared', 'for', 'the', 'tests.', 'easy', 'a.']\n",
      "['this', 'year', 'because', 'of', 'covid-19', 'i', 'was', 'unable', 'to', 'go', 'to', 'the', 'us,', 'so', 'all', 'my', 'lectures', 'were', 'online.', 'rafter', 'made', 'it', 'very', 'difficult.', 'she', 'does', 'not', 'record', 'lectures', '(&quot;math', 'is', 'not', 'a', 'spectator', 'sport&quot;),', \"doesn't\", 'give', 'alternate', 'exam', 'times,', 'so', 'i', 'had', 'to', 'take', 'my', 'midterms', 'at', '3', 'am,', 'my', 'final', 'at', '5.', 'if', 'you', 'ask', 'any', 'syllabus', 'questions,', '-2', 'pts', 'on', 'your', 'final', 'grade!']\n",
      "[\"it's\", 'obvious', \"she's\", 'passionate', 'about', 'calculus', 'and', 'dr.', 'rafter', 'is', 'an', 'amazing', 'lecturer', 'but', 'the', 'exams', 'are', '1000x', 'times', 'harder', 'than', 'the', 'assigned', 'practice', 'problems', 'or', 'the', 'biweekly', 'quizzes.', 'not', 'to', 'mention', 'she', \"doesn't\", 'record', 'said', 'lectures.', 'do', 'not', 'take', 'if', 'possible']\n",
      "['prof.', 'rafter', 'is', 'the', 'least', 'empathetic', 'professor', \"i've\", 'ever', 'had', 'and', 'probably', 'ever', 'will', 'have.', 'her', 'tests', 'are', 'well', 'beyond', 'the', 'scope', 'of', 'the', 'material', 'covered', 'in', 'lectures', 'and', 'the', 'homework,', 'and', \"i've\", 'found', 'that', 'no', 'amount', 'of', 'studying', 'can', 'prepare', 'you', 'to', 'get', 'higher', 'than', 'a', 'b', 'on', 'one', 'of', 'her', 'exams.', 'lectures', 'are', 'organized,', 'but', 'beware', 'the', 'material', 'is', 'nothing', 'like', 'exam']\n",
      "['i', 'really', 'like', 'dr', 'rafter', 'in', 'class', 'but', 'would', 'get', 'very', 'sad', 'and', 'angry', 'while', 'studying', 'for', 'tests.', \"she's\", 'a', 'big', 'fan', 'of', 'spending', 'loads', 'of', 'time', 'on', 'the', 'basics', 'then', 'giving', 'an', 'entire', 'test', 'on', 'the', 'difficult', 'stuff', 'that', 'was', 'mentioned', 'once.', 'doing', 'the', 'homework', 'is', 'a', 'lot,', 'obviously,', 'but', 'no', 'more', 'than', 'any', 'other', 'math', 'class.', 'the', 'work', 'helps', 'you', 'learn', 'the', 'material', 'better.']\n",
      "['she', 'was', 'a', 'great', 'professor.', 'i', 'left', 'knowing', 'so', 'much', 'about', 'statistics', 'and', 'she', 'was', 'super', 'helpful', 'in', 'lectures', 'and', 'in', 'office', 'hours.', 'i', 'did', 'have', 'to', 'work', 'a', 'lot', 'outside', 'of', 'class,', 'and', 'this', 'course', 'covers', 'a', 'lot', 'of', 'material', 'quickly.', 'i', 'do', 'feel', 'like', 'i', 'really', 'know', 'this', 'material', 'well', 'after', 'this', 'course.', 'take', 'rafter', 'if', 'you', 'want', 'to', 'learn', 'statistics!']\n",
      "['rafter', 'is', 'a', 'great', 'professor', 'but', 'she', 'intentionally', 'makes', 'her', 'tests', 'very', 'hard.', 'i', 'really', 'enjoyed', 'her', 'class', 'and', 'i', 'think', 'she', 'is', 'a', 'great', 'lecturer.', 'because', 'of', 'her', 'i', 'learned', 'calculus', 'very', 'well,', 'but', 'if', 'you', 'are', 'not', 'willing', 'to', 'put', 'in', 'a', 'lot', 'of', 'work', 'for', 'this', 'class', 'do', 'not', 'take', 'it.']\n",
      "['rafter', 'was', 'honestly', 'a', 'great', 'prof,', 'but', 'i', \"wasn't\", 'prepared', 'for', 'how', 'hard', '1300', 'was', 'going', 'to', 'be.', 'weekly', 'quizzes', 'are', 'easy', 'if', 'you', 'do', 'the', 'hw.', 'problem', 'sets', 'before', 'tests', 'were', 'hard,', 'but', 'make', 'sure', 'you', 'know', 'how', 'to', 'do', 'those', 'questions', 'before', 'tests.', 'tests', 'were', 'super', 'hard,', 'but', 'if', 'you', 'put', 'in', 'a', 'ton', 'of', 'work,', 'you', 'can', 'do', 'well.', 'all', '1300', 'courses', 'are', 'hard', 'so', 'be', 'prepared.']\n",
      "['lori', 'rafter', 'is', 'the', 'professor', 'that', 'you', 'will', 'respect', 'more', 'than', 'you', 'will', 'love.', 'her', 'tests', 'are', 'incredibly', 'hard,', 'but', 'once', 'you', 'leave', 'her', 'class,', 'you', 'will', 'know', 'calculus.', 'weekly', 'quizzes', 'that', 'require', 'you', 'to', 'show', 'up', 'to', 'class,', 'but', 'she', 'is', 'fair', 'and', 'is', 'clear', 'of', 'what', 'she', 'expects', 'of', 'you.', 'even', 'though', 'my', 'grade', 'was', 'not', 'spectacular,', 'i', 'wanted', 'to', 'take', 'her', 'again.']\n",
      "['dr.', 'rafter', 'is', 'an', 'excellent', 'lecturer', 'who', 'explains', 'the', 'difficult', 'concepts', 'of', 'calculus', 'ii', 'much', 'better', 'than', 'most.', 'her', 'tests', 'are', 'very', 'difficult,', 'but', 'if', 'you', 'do', 'all', 'of', 'the', 'homework', 'and', \"don't\", 'wait', 'until', 'the', 'night', 'before', 'to', 'start', 'studying', 'for', 'tests,', 'your', 'grade', 'will', 'end', 'up', 'just', 'fine!', 'you', 'will', 'also', 'leave', 'the', 'class', 'with', 'a', 'much', 'better', 'understanding', 'of', 'calculus']\n",
      "['lori', 'rafter', 'is', 'an', 'amazing', 'teacher', 'who', 'really', 'cares', 'about', 'her', 'students.', 'math', '1300', 'is', 'a', 'weed', 'out', 'class', 'and', 'is', 'known', 'to', 'be', 'difficult,', 'but', \"it's\", 'still', 'possible', 'to', 'do', 'well.', 'the', 'tests', 'are', 'very', 'hard', 'but', 'she', 'does', 'add', 'points', 'to', 'the', 'tests', 'to', 'bring', 'up', 'the', 'average', 'and', 'is', 'very', 'fair', 'if', 'you', 'come', 'to', 'her', 'with', 'grading', 'questions', 'or', 'any', 'concerns', 'during', 'office', 'hours.']\n",
      "['dr.', 'rafter', 'is', 'a', 'very', 'good', 'professor', 'in', 'that', 'she', 'explains', 'and', 'teaches', 'the', 'concepts', 'very', 'well.', 'her', 'lectures', 'are', 'not', 'boring', 'as', 'she', 'has', 'a', 'very', 'projecting', 'voice', 'and', 'will', 'even', 'become', 'louder', 'when', 'she', 'speaks', 'of', 'more', 'important', 'concepts.', 'however,', 'her', 'class', 'is', 'very', 'difficult', 'and', 'she', 'does', 'make', 'extremely', 'tricky', 'tests', 'so', 'you', 'must', 'be', 'prepared', 'to', 'work', 'everyday.']\n",
      "['rafter', 'is', 'an', 'excellent', 'teacher', 'who', 'cares', 'about', 'her', 'students', 'understanding', 'the', 'material.', 'that', 'being', 'said,', 'her', 'tests', 'are', 'notoriously', 'difficult.', 'unless', 'you', 'put', 'in', 'the', 'work,', 'you', \"won't\", 'do', 'well.', 'still', 'recommend', 'the', 'class', 'though.', 'after', 'taking', 'a', 'class', 'with', 'rafter,', 'all', 'others', 'seem', 'like', 'a', 'joke.']\n",
      "['rafter', 'is', 'a', 'pretty', 'good', 'teacher', 'and', 'really', 'knows', 'what', \"she's\", 'talking', 'about,', 'although', 'she', 'does', 'move', 'very', 'quickly', 'through', 'concepts.', 'however,', 'her', 'test', 'are', 'very', 'very', 'difficult,', 'usually', 'way', 'more', 'than', 'necessary.', 'definitely', 'not', 'the', 'worst', 'professor', 'to', 'get', 'but', 'if', \"you're\", 'superficial', 'and', 'care', 'about', 'your', 'grade', 'over', 'how', 'much', 'you', 'learn,', 'she', 'may', 'not', 'be', 'for', 'you.']\n",
      "['dr.', 'rafter', 'is', 'the', 'best', 'math', 'professor', \"i've\", 'ever', 'met!', 'the', 'class', 'is', 'tough', 'but', 'if', 'you', 'work', 'hard', 'everything', 'will', 'be', 'okay.', 'i', 'was', 'not', 'good', 'at', 'math', 'in', 'high', 'school', 'but', 'now', \"i'm\", 'even', 'considering', 'start', 'doing', 'math', 'as', 'my', 'future', 'career,', 'which', 'is', 'pretty', 'exciting.', 'quiz', 'twice', 'a', 'week', 'so', 'you', 'need', 'to', 'go', 'over', 'the', 'stuff', 'daily.', 'her', 'notes', 'are', 'well-organized', 'and', 'clear.']\n",
      "[\"i've\", 'taken', 'calculus', 'before', 'and', 'done', 'ok,', 'but', 'rafter', 'made', 'her', 'tests', 'so', 'difficult', 'it', 'was', 'like', \"you'd\", 'never', 'seen', 'the', 'material', 'before.', 'you', 'can', 'do', 'the', 'homework,', 'ace', 'the', 'graded', 'assignments', 'and', 'all', 'the', 'quizzes,', 'and', 'still', 'fail', 'the', 'class.', 'ok', 'teacher,', 'but', 'the', 'tests', \"aren't\", 'made', 'for', 'people', 'to', 'get', \"a's\", 'on', 'them.', 'avoid', 'at', 'all', 'costs,', 'almost', 'impossible', 'to', 'pass.']\n",
      "['dr.', 'rafter', 'definitely', 'knows', 'her', 'stuff', 'and', 'cares', 'about', 'the', 'learning', 'of', 'her', 'students,', 'but', 'when', 'a', 'class', 'of', 'mostly', 'engineering', 'students', 'who', 'took', 'ap', 'calc', 'manages', 'an', 'average', 'in', 'the', '60s', \"there's\", 'a', 'problem.', 'understanding', 'concepts', \"doesn't\", 'mean', \"you'll\", 'manage', 'even', 'a', 'c+', 'on', 'her', 'tests.', 'she', 'enjoys', 'tricky', 'problems', 'and', 'tests', 'are', 'too', 'long', 'for', 'the', 'time', 'allotted.']\n",
      "['lori', 'rafter', 'is', 'probably', 'the', 'best', 'professor', \"i've\", 'had', 'at', 'vanderbilt.', 'her', 'tests', 'are', 'really', 'hard', 'and', 'her', 'class', 'requires', 'a', 'lot', 'of', 'work,', 'but', 'i', 'learned', 'more', 'about', 'calculus', 'and', 'math', 'in', 'general', 'in', 'her', 'one', 'class', 'than', 'i', 'did', 'in', 'all', 'of', 'high', 'school.', 'she', 'always', 'contextualizes', 'what', \"we're\", 'learning', 'at', 'the', 'beginning', 'of', 'each', 'lecture.', 'prepared', 'me', 'for', '1301', 'really', 'well.']\n",
      "['dr.', 'rafter', 'is', 'an', 'amazing', 'professor', 'that', 'really', 'cares', 'about', 'her', 'students', 'learning', 'the', 'material,', 'however', 'she', 'is', 'incredibly', 'intense.', 'i', 'loved', 'this', 'class', 'more', 'than', 'any', 'other', \"i've\", 'ever', 'taken,', 'but', 'it', 'was', 'also', 'the', 'most', 'difficult', \"i've\", 'encountered.', 'despite', 'the', 'twice', 'per', 'week', 'quizzes', 'and', 'difficulty', 'she', 'dishes', 'out,', 'i', 'am', 'a', 'far', 'better', 'student', 'due', 'to', 'her', 'class.']\n",
      "['rafter', 'preaches', 'hell-fire', 'and', 'brimstone', 'calculus.', 'i', \"didn't\", 'think', 'that', 'was', 'possible.', 'she', 'is', 'into', 'it', 'and', 'cares', 'that', 'you', 'understand', 'the', 'why', 'behind', 'concepts.', 'i', 'enjoyed', 'her,', 'but', 'because', 'she', 'taught', 'well,', 'not', 'because', 'she', 'was', 'easy--', 'she', 'makes', 'you', 'work', 'hard', 'for', 'grades.']\n",
      "['i', 'think', 'that', 'dr.', 'rafter', 'cares', 'about', 'her', 'students,', 'but', 'the', 'level', 'of', 'difficulty', 'of', 'the', 'tests', 'is', 'ridiculously', 'higher', 'than', 'the', 'problems', 'worked', 'in', 'class,', 'on', 'the', 'homework,', 'or', 'in', 'the', 'textbook.', 'the', 'tests', 'are', 'unnecessarily', 'hard', 'and', 'are', 'more', 'about', 'tripping', 'you', 'up', 'on', 'little', 'things', 'that', 'testing', 'to', 'see', 'if', 'you', 'know', 'the', 'content.']\n",
      "['rafter', 'is', 'a', 'fantastic', 'professor.', 'although', 'her', 'tests', 'are', 'hard', 'and', 'her', 'lectures', 'are', 'fast', 'paced,', 'she', 'explains', 'things', 'clearly', 'and', 'gets', 'everyone', 'to', 'engage', 'in', 'class', 'and', 'learn', 'the', 'material.', 'you', 'will', 'really', 'have', 'to', 'work', 'to', 'get', 'a', 'good', 'grade,', 'but', 'if', 'you', 'pay', 'attention', 'in', 'class,', 'keep', 'up', 'with', 'assignments,', 'and', 'seek', 'help', 'when', 'you', 'need', 'it,', 'you', 'can', 'be', 'successful.']\n",
      "['while', 'her', 'tests', 'are', 'challenging,', 'they', 'are', 'manageable', 'if', 'you', 'know', 'the', 'content', 'and', 'can', 'work', 'quickly.', 'rafter', 'is', 'a', 'great', 'teacher', 'and', 'her', 'quizzes', 'and', 'tests', 'will', 'make', 'you', 'learn', 'the', 'material.', 'follow', 'her', 'advice', 'about', 'doing', 'the', 'homework,', 'and', \"you'll\", 'survive.']\n",
      "['professor', 'rafter', 'is', 'insanely', 'smart', 'and', 'passionate', 'about', 'math', 'which', 'definitely', 'helps', 'when', 'learning', 'it.', 'a', 'very', 'hard', 'class', 'but', 'if', 'you', 'put', 'in', 'effort,', \"you're\", 'able', 'to', 'do', 'well.']\n",
      "['professor', 'rafter', 'is', 'great.', 'she', 'is', 'incredibly', 'smart', 'and', 'can', 'be', 'confusing', 'at', 'times,', 'but', 'over', 'all', 'a', 'great', 'class.']\n",
      "['this', 'class', 'should', 'be', 'avoided', 'with', 'rafter', 'if', 'possible.', 'her', 'tests', 'are', 'definitely', 'difficult', 'and', 'has', 'daily', 'quizzes.', 'she', 'is', 'cold', 'and', 'all', 'about', 'the', 'business.', 'lets', 'just', 'say', 'i', 'believe', 'she', 'is', 'married', 'to', 'another', 'math', 'professor']\n",
      "['professor', 'rafter', 'is', 'great.', 'friendly,', 'funny,', 'and', 'excited;', 'however,', 'there', 'is', 'no', 'real', 'syllabus', '(meaning', 'you', \"don't\", 'know', 'test', 'dates', 'ahead', 'of', 'time)', 'and', 'no', 'keys', 'for', 'tests', '(meaning', 'you', \"can't\", 'review', 'them', 'for', 'the', 'final).', 'tests', 'are', 'hard.', 'gotten', \"a's\", 'in', 'all', 'my', 'math', 'courses', 'except', 'for', 'this.', 'also,', 'quizzes', 'everyday', 'is', 'annoying;', 'no', 'makeups.']\n",
      "['took', 'history', 'of', 'math', 'b/c', 'i', 'heard', 'it', 'was', 'an', 'easier', 'math', 'course', 'for', 'the', 'major.', 'decently', 'interesting,', 'daily', 'reading', 'quizzes', 'were', 'annoying.', 'hw', 'is', 'not', \"req'd,\", 'but', \"i'd\", 'strongly', 'recommend', 'doing', 'it.', 'dr', 'rafter', 'is', 'nice,', 'but', 'an', 'extremely', 'picky', 'grader.', 'most', 'students', 'were', 'in', 'b', 'range', 'for', 'final', 'grade.']\n",
      "['prof.', 'rafter', 'is', 'a', 'really', 'nice', 'person', 'and', 'is', 'always', 'helpful,', 'especially', 'if', 'you', 'go', 'to', 'her', 'office', 'hours.', 'her', 'tests', 'are', 'easy', 'enough', 'if', 'you', 'study', 'for', 'them,', 'but', 'the', 'quizzes', 'are', 'difficult', 'if', 'you', \"haven't\", 'done', 'the', 'homework.', \"she's\", 'really', 'nice,', 'but', 'she', 'goes', 'over', 'the', 'material', 'too', 'fast', '(as', 'if', 'you', 'already', 'know', 'it)', 'so', 'you', 'have', 'to', 'do', 'a', 'lot', 'of', 'work', 'on', 'your', 'own.']\n",
      "['rafter', 'is', 'a', 'pretty', 'cool', 'southern', 'lady.', 'she', 'jokes', 'around', 'a', 'lot', 'and', 'really', 'gets', 'into', 'what', \"she's\", 'teaching.', 'entertaining', 'but', 'hard.', 'i', 'got', 'a', '5', 'in', 'ap', 'calc', 'ab', 'and', 'this', 'class', 'ripped', 'me', 'a', 'new', 'one.', 'if', \"you're\", 'definitely', 'taking', 'calc', 'though,', 'go', 'with', 'rafter', 'for', 'sure.']\n",
      "['professor', 'rafter', 'is', 'a', 'nice', 'person', 'and', 'she', 'means', 'well', 'but', 'she', 'simply', 'cannot', 'teach', 'the', 'math.', 'the', 'tests', 'are', 'hard', 'and', 'her', 'rambling', 'in', 'class', 'explanations', 'do', 'not', 'help', 'and', 'in', 'fact', 'sometimes', 'i', 'found', 'myself', 'more', 'confused', 'with', 'a', 'topic', 'after', 'class', 'than', 'before']\n",
      "['the', 'material', 'in', 'this', 'class', 'is', 'random', 'but', 'not', 'hard.', 'rafter', 'grades', 'on', 'a', 'sort', 'of', 'bell', 'curve', 'where', 'she', 'only', 'gives', 'out', 'a', 'certain', 'number', 'of', 'as,', 'but', 'the', 'curve', 'is', 'adjusted', 'so', 'that', 'no', 'one', 'gets', 'horrible', 'grades', 'and', \"it's\", 'not', 'that', 'hard', 'to', 'get', 'an', 'a.', 'this', 'class', 'is', 'really', 'a', 'waste', 'of', 'time,', 'if', 'you', 'can', 'get', 'out', 'of', 'it', 'and', 'just', 'take', '175.']\n",
      "['rafter', 'does', 'not', 'respond', 'to', 'students', 'questions.', 'his', 'lectures', 'are', 'difficult', 'to', 'understand.', 'be', 'ready', 'to', 'study', 'on', 'your', 'own.']\n",
      "['john', 'rafter', 'is', 'an', 'amazing', 'lecturer', 'and', 'this', 'was', 'probably', 'the', 'most', 'interesting', 'class', \"i've\", 'taken', 'at', 'vandy.', 'this', 'class', 'is', 'not', 'to', 'be', 'taken', 'lightly', 'though-', 'the', 'problems', 'sets', 'are', 'incredibly', 'time', 'consuming', 'and', 'the', 'tests', 'are', 'difficult.', 'he', 'does,', 'however,', 'curve', 'tests', 'fairly', 'and', 'is', 'responsive', 'to', 'regrade', 'requests.', 'this', 'was', 'a', 'hybrid', 'class.']\n",
      "['john', 'rafter', 'is', 'very', 'clearly', 'passionate', 'about', 'two', 'things:', 'math', 'and', 'teaching.', 'he', 'is', 'very', 'fair,', 'however', 'he', 'does', 'expect', 'an', 'incredible', 'amount', 'from', 'his', 'students.', \"i'm\", 'not', 'sure', \"i've\", 'ever', 'learned', 'more', 'from', 'a', 'class,', 'but', 'that', 'means', 'there', 'was', 'a', 'lot', 'of', 'work.', 'frequently', 'worked', '8+', 'hours', 'on', 'the', 'weekly', 'problem', 'sets.', 'do', 'not', 'take', 'john', 'unless', 'you', 'like', 'math!']\n",
      "['professor', 'rafter', 'is', 'a', 'serious', 'professor', 'whose', 'course,', 'introduction', 'to', 'financial', 'mathematics,', 'requires', 'decent', 'attention', 'and', 'effort.', 'however,', \"he's\", 'brilliant', 'and', 'does', 'a', 'great', 'job', 'applying', 'the', 'class', 'to', 'real', 'world', 'situations.', 'i', 'think', \"i've\", 'picked', 'up', 'more', 'in', 'this', 'course', 'than', 'any', 'other', 'math', 'course', 'thus', 'far.']\n",
      "[\"i'm\", 'gonna', 'go', 'against', 'the', 'grain', 'here,', 'even', 'though', 'i', 'know', 'this', \"won't\", 'affect', 'his', 'rating.', 'i', \"wouldn't\", 'take', 'this', 'class', 'again.', 'rafter', 'is', 'a', 'good', 'prof,', 'and', 'a', 'talented', 'lecturer,', 'but', 'his', 'grading', 'just', 'feels', 'very', 'punitive.', \"you'll\", 'probably', 'learn', 'a', 'lot,', 'but', \"don't\", 'take', 'him', 'if', 'your', 'gpa', 'matters.', 'i', 'promise', 'i', \"wasn't\", 'expecting', 'an', 'easy', 'a,', 'so', 'ignore', 'at', 'your', 'peril.']\n",
      "['this', 'was', 'by', 'far', 'the', 'hardest', 'class', \"i've\", 'taken;', 'the', 'material', 'is', 'brutal', 'albeit', 'interesting.', 'dr', 'rafter', 'is', 'known', 'for', 'making', 'some', 'beasts', 'of', 'exams,', 'and', 'that', 'rumor', 'is', 'true.', 'i', 'was', 'relieved', 'when', 'i', 'received', 'above', 'a', '50', 'on', 'the', '1st', 'midterm.', 'rafter', 'does', 'do', 'a', 'great', 'job', 'of', 'teaching', 'horribly', 'complex', 'material,', 'and', 'though', \"he's\", 'tough,', \"he's\", 'easily', 'the', 'best', 'prof', \"i've\", 'had']\n",
      "['john', 'rafter', 'is', 'an', 'incredible', 'professor', 'who', 'can', 'teach', 'you', 'a', 'lot', 'about', 'math', 'if', 'you', 'care', 'to', 'learn.', 'look', 'at', 'the', 'other', 'negative', 'reviews;', 'people', 'give', 'him', 'low', 'ratings', 'because', 'they', 'struggle', 'in', 'his', 'class,', 'but', 'this', \"doesn't\", 'mean', 'he', 'is', 'a', 'bad/uncaring', 'professor.', 'he', 'certainly', \"doesn't\", 'give', 'out', 'easy', \"a's,\", 'but', 'i', 'learned', 'more', 'from', 'him', 'than', 'anyone', 'else', 'at', 'vanderbilt.']\n",
      "['math', '2820', 'with', 'rafter', 'was', 'extremely', 'challenging.', 'tests', 'are', 'curved,', 'though.', '3', 'midterms,', 'cumulative', 'final,', '4', 'problem', 'sets,', '3', '&quot;test', 'agains&quot;', '(do', 'the', 'test', 'for', 'homework,', 'due', 'next', 'class),', 'and', '20', 'pop', 'quizzes', 'throughout', 'the', 'semester', '(you', 'get', 'to', 'drop', 'some).', \"he's\", 'a', 'genius', 'and', 'knows', 'his', 'stuff,', 'but', 'you', 'better', 'know', 'what', \"you're\", 'doing', 'or', 'you', \"won't\", 'pass.']\n",
      "['definitely', 'the', 'toughest', 'class', 'ive', 'taken', 'at', 'vanderbilt.', 'there', 'is', 'a', 'possibility', 'of', 'a', 'quiz', 'every', 'class', 'session.', 'tests', 'are', 'extremely', 'difficult.', 'on', 'the', 'bright', 'side', 'theres', 'a', 'pretty', 'heavy', 'curve.', 'rafter', 'can', 'be', 'a', 'pretty', 'engaging', 'professor', 'and', 'pretty', 'funny', 'in', 'lecture.', 'also', 'good', 'in', 'office', 'hours']\n",
      "['im', 'honestly', 'haunted', 'by', 'the', 'words', '\"limits', 'derivates', 'and', 'integrals\"', 'that', 'we', 'use', 'to', 'start', 'every', 'class.', 'this', 'is', 'probably', 'the', 'hardest', 'class', \"i've\", 'ever', 'taken.', 'but', 'if', 'you', 'go', 'to', 'office', 'hours', '(which', 'i', 'really', 'reccomend', 'with', 'him!!)', 'rafter', 'is', 'great', 'and', 'can', 'be', 'forgiving', 'with', 'helping', 'you', 'out.', 'hes', 'a', 'pretty', 'chill', 'dude', 'overall,', 'but', '1301', 'is', 'rough']\n",
      "['rafter', 'is', 'not', 'accessible', 'outside', 'classes', 'and', 'is', 'a', 'harsh', 'grader.']\n",
      "['rafter', 'always', 'tries', 'to', 'prove', 'that', 'he', 'is', 'the', 'smartest.', 'he', 'does', 'this', 'by', 'making', 'the', 'tests', 'unreasonably', 'hard.']\n",
      "['rafter', 'is', 'a', 'very', 'intelligent', 'and', 'accessible', 'professor.', 'he', 'derives', 'pretty', 'much', 'everything', 'instead', 'of', 'just', 'feeding', 'you', 'information', \"you'll\", 'quickly', 'forget.', 'quizzes', 'everyday', 'taken', 'from', 'homework', '(definitely', 'helps', 'with', 'your', 'grade', 'in', 'the', 'class).', 'fairly', 'challenging', 'homework.', 'tests', 'are', 'hard,', 'and', 'the', 'final', 'was', 'very', 'difficult.', 'great', 'prof,', 'highly', 'reccommend']\n",
      "['rafter', 'is', 'literally', 'too', 'brilliant', 'to', 'even', 'comprehend', 'our', 'own', 'stupidity.', 'gives', 'quizzes', 'based', 'on', 'homework,', 'which', 'are', 'fair.', 'problem', 'sets', '(worth', '1', 'test)', 'are', 'real', 'tough.', 'tests', '(not', 'curved)', 'are', 'ridiculous.', 'he', 'will', 'break', 'you', 'in', 'mvc.', 'super', 'interesting', 'guy,', 'just', 'not', 'a', \"student's\", 'best', 'friend.']\n",
      "['rafter', 'rocks.', 'he', 'really', 'gets', 'the', 'class', 'into', 'it,', 'and', \"it's\", 'obvious', 'how', 'much', 'he', 'loves', 'math.', 'his', 'tests', 'are', 'really', 'tough,', 'but', 'he', 'also', 'gives', 'huge', 'curves', '(lowest', 'curve', 'was', '8%,', 'highest', 'was', '16%).', 'if', 'i', 'can', 'take', 'him', 'again,', 'i', 'will.', 'wonderful', 'professor,', 'wonderful', 'person.']\n",
      "['rafter', 'is', 'a', 'great', 'teacher,', 'but', 'this', 'class', 'will', 'challenge', 'you.']\n",
      "['rafter', 'is', 'a', 'good', 'teacher,', 'just', 'very', 'demanding.', 'although', 'time', 'tends', 'to', 'drag', 'along', 'during', 'his', 'lectures,', 'he', 'presents', 'the', 'material', 'well.', 'daily', 'quizzes,', 'most', 'are', 'easy.', 'attend', 'every', 'lecture', 'possible-', 'you', 'will', 'fall', 'behind', 'quickly', 'if', 'you', \"don't.\", 'tests', 'are', 'tough,', 'you', 'need', 'to', 'thoroughly', 'understand', 'the', 'concepts', 'to', 'do', 'well.', 'problem', 'sets', 'are', 'very', 'time', 'consuming']\n",
      "['rafter', 'is', 'the', 'man!', 'his', 'classes', 'are', 'really', 'fun', 'and', 'productive.', 'the', 'best', 'prof', \"i've\", 'ever', 'had.', 'math', '175', 'requires', 'imaginations', 'and', 'he', 'makes', 'things', 'really', 'simple', 'to', 'imagine.']\n",
      "['rafter', 'is', 'an', 'incredible', 'prof.', 'he', 'is', 'really', 'good', 'at', 'explaining', 'concepts.', 'he', 'makes', 'you', 'think', 'a', 'lot', 'in', 'the', 'class.', 'i', 'took', 'his', 'class', 'this', 'summer', 'and', 'it', 'turned', 'out', 'to', 'be', 'an', 'awesome', 'one.i', 'had', 'doubts', 'about', 'taking', 'his', 'class', 'at', 'first', 'but', 'now', 'i', 'feel', 'glad', 'that', 'i', 'had', 'him.tests', \"aren't\", 'that', 'bad.quizzes', 'are', 'super', 'easy.', 'homeworks', 'are', 'fine.', 'overall,highly', 'recommende']\n",
      "['not', 'a', 'bad', 'guy,', 'but', 'i', 'would', 'take', 'ratcliffe', 'instead', '(your', 'grade', 'will', 'be', 'higher', 'guaranteed).', 'rafter', 'is', 'hard', 'and', 'expects', 'a', 'lot', 'from', 'his', 'students.', 'helpful', 'during', 'office', 'hours,', 'but', 'they', 'were', 'at', 'inconvenient', 'times', 'for', 'everyone', 'and', \"he's\", 'not', 'on', 'campus', 'tues/thurs.', 'both', 'sections', 'of', 'math', '221', 'have', 'excessive', 'hw', 'for', 'the', 'material.']\n",
      "['this', 'course', 'is', 'difficult', 'to', 'begin', 'with', 'but', 'rafter', 'helps', 'a', 'lot', 'in', 'clarifying', 'any', 'questions', 'or', 'concerns.', 'there', 'is', 'a', 'quiz', 'everyday', 'so', 'do', 'the', 'hw', 'and', \"you'll\", 'do', 'fine.', 'tests', 'are', 'pretty', 'straight', 'forward', 'just', 'long', 'but', 'you', 'need', 'to', 'understand', 'the', 'material', 'not', 'just', 'memorize', 'in', 'order', 'to', 'do', 'well.', 'go', 'to', 'office', 'hours', 'if', 'you', 'need', 'help', 'and', \"he's\", 'loads', 'of', 'help!']\n",
      "['i', 'took', 'this', 'class', 'in', 'fall', '06,', 'rafter', 'was', 'hard.', 'he', 'gave', 'quizes', 'at', 'least', 'twice', 'a', 'week,', 'and', 'more', 'tests', 'than', 'i', 'can', 'remember.', 'he', \"wasn't\", 'mean,', 'but', \"wasn't\", 'a', 'sweet', 'little', 'pumpkin', 'either.', 'if', 'you', 'dont', 'want', 'to', 'hurt', 'your', 'gpa,', 'take', 'another', 'prof.', 'this', 'was', 'the', 'first', 'non', 'a', 'i', 'have', 'recieved', 'in', 'a', 'math', 'class', 'ever.', 'good', 'luck', 'in', 'your', 'search.']\n",
      "['wow,', 'rafter', 'is', 'a', 'great', 'guy.', 'probably', 'one', 'of', 'the', 'most', 'amazing', 'professors', 'ever.', 'however...this', 'class...is', 'really', 'tough.', 'especially', 'compared', 'to', 'the', 'other', 'sections.', 'his', 'tests', 'are', 'amazingly', 'long,', 'and', 'sometimes', 'you', 'walk', 'out', 'just', 'dreading', 'seeing', 'your', 'grade.', 'if', 'you', 'do', 'the', 'hw,', 'you', 'will', 'do', 'well.', 'also...go', 'to', 'his', 'office', 'hours.', 'only', 'b', \"i've\", 'had', 'at', 'vandy.']\n",
      "['professor', 'rafter', 'is', 'an', 'awesome', 'teacher.', 'he', 'is', 'tough,', 'but', 'he', 'explains', 'the', 'material', 'very', 'well.', 'he', 'has', 'a', 'lot', 'of', 'enthusiasm', 'and', 'patience', 'in', 'class', 'and', 'class', 'is', 'always', 'interesting.', 'he', 'is', 'very', 'helpful', 'outside', 'of', 'class.', 'i', 'would', 'definately', 'take', 'from', 'him', 'again.']\n",
      "['best', 'teacher', 'i', 'have', 'ever', 'had.', 'rafter', 'really', 'knows', 'his', 'stuff,', 'and', 'has', 'great', 'teaching', 'techniques.', 'the', 'class', 'itself', 'is', 'hard,', 'but', 'rewarding.', 'very', 'recommended.']\n",
      "['tough', 'class,', 'tough', 'concepts,', 'but', 'excellently', 'taught.', 'rafter', 'is', 'very', 'clear', 'and', 'concise', 'and', 'helpful', 'outside', 'of', 'class.', 'tests', 'are', 'tough,', 'but', 'all', 'the', 'questions', 'come', 'from', 'homework.', 'keep', 'up', 'and', 'work', 'with', 'other', 'students', 'on', 'the', 'take', 'homes', 'are', \"you'll\", 'be', 'great.', 'do', 'hw,', 'it', 'really', 'helps!']\n",
      "['rafter', 'is', 'a', 'great', 'prof.', 'he', 'moves', 'through', 'the', 'material', 'quickly', 'but', 'still', 'explains', 'things', 'very', 'well.', 'he', 'clearly', 'knows', 'his', 'stuff.', 'plus,', 'he', 'is', 'as', 'accessible', 'as', 'one', 'could', 'hope.', 'if', 'i', 'get', 'the', 'opprotunity,', 'i', 'will', 'definitely', 'take', 'from', 'him', 'again.']\n",
      "['for', 'difficult', 'material,', 'rafter', 'is', 'very', 'clear.', 'grades', 'are', 'composed', 'of', '8', 'quizzes', 'and', '4', 'tests', 'that', 'are', 'very', 'challenging.', 'but,', 'some', 'of', 'them', 'are', 'group', 'take', 'homes.', 'solid', 'teacher', 'in', 'all.']\n"
     ]
    }
   ],
   "source": [
    "from collections import defaultdict, Counter\n",
    "LEN = 3\n",
    "model = defaultdict(lambda: defaultdict(int))\n",
    "with open('reviews.txt', 'r') as f:\n",
    "    for line in f.readlines():\n",
    "        words = line.lower().split()\n",
    "        if 'rafter' in words:\n",
    "            print(words)\n",
    "        for i in range(len(words) - LEN):\n",
    "            first = words[i:i+LEN]\n",
    "            second = words[i+LEN]\n",
    "            model[tuple(first)][second] += 1\n",
    "        "
   ]
  },
  {
   "cell_type": "code",
   "execution_count": 96,
   "metadata": {},
   "outputs": [
    {
     "data": {
      "text/plain": [
       "532009"
      ]
     },
     "execution_count": 96,
     "metadata": {},
     "output_type": "execute_result"
    }
   ],
   "source": [
    "len(model)"
   ]
  },
  {
   "cell_type": "code",
   "execution_count": 82,
   "metadata": {},
   "outputs": [],
   "source": [
    "def generate_text(starting_sentence, model, max_len):\n",
    "    sentence = starting_sentence.lower().split(' ')\n",
    "    words = tuple(sentence[-4:])\n",
    "    for i in range(max_len - 4):\n",
    "        if words in model:\n",
    "            prob_dist = model[words]\n",
    "            word = random.choices(list(prob_dist.keys()), weights=list(prob_dist.values()), k=1)[0]\n",
    "            sentence.append(word)\n",
    "            words = tuple([*(words[1:]), word])\n",
    "        else:\n",
    "            break\n",
    "    return ' '.join(sentence)"
   ]
  },
  {
   "cell_type": "code",
   "execution_count": 94,
   "metadata": {},
   "outputs": [
    {
     "data": {
      "text/plain": [
       "'lori rafter is an amazing lecturer and really cares for her students. this commons seminar is super easy, the only grade comes from weekly blogs, showing up to class, and a 5 page final paper. professor muse is somewhat spacey and unorganized but very sweet and easy to talk to'"
      ]
     },
     "execution_count": 94,
     "metadata": {},
     "output_type": "execute_result"
    }
   ],
   "source": [
    "generate_text('lori rafter is an', model, 50)"
   ]
  },
  {
   "cell_type": "code",
   "execution_count": 91,
   "metadata": {},
   "outputs": [
    {
     "data": {
      "text/plain": [
       "defaultdict(int, {})"
      ]
     },
     "execution_count": 91,
     "metadata": {},
     "output_type": "execute_result"
    }
   ],
   "source": [
    "model[('professor', 'rafter', 'is', 'tough')]"
   ]
  },
  {
   "cell_type": "code",
   "execution_count": 67,
   "metadata": {},
   "outputs": [
    {
     "data": {
      "text/plain": [
       "('this', 'is', 'the', 'worst')"
      ]
     },
     "execution_count": 67,
     "metadata": {},
     "output_type": "execute_result"
    }
   ],
   "source": [
    "words"
   ]
  },
  {
   "cell_type": "code",
   "execution_count": null,
   "metadata": {},
   "outputs": [],
   "source": []
  }
 ],
 "metadata": {
  "kernelspec": {
   "display_name": "Python 3",
   "language": "python",
   "name": "python3"
  },
  "language_info": {
   "codemirror_mode": {
    "name": "ipython",
    "version": 3
   },
   "file_extension": ".py",
   "mimetype": "text/x-python",
   "name": "python",
   "nbconvert_exporter": "python",
   "pygments_lexer": "ipython3",
   "version": "3.7.6"
  }
 },
 "nbformat": 4,
 "nbformat_minor": 4
}
